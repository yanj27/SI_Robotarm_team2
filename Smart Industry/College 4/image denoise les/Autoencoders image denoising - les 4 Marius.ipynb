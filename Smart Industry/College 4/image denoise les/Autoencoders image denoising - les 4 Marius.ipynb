{
 "cells": [
  {
   "cell_type": "code",
   "execution_count": 1,
   "id": "d49c5f19",
   "metadata": {},
   "outputs": [],
   "source": [
    "def plot(x, p=None, labels=False):\n",
    "    plt.figure(figsize=(20,2))\n",
    "    for i in range(10): # refers to the first 10 images that we are plotting\n",
    "        plt.subplot(1, 10, i+1) # 1 row and 10 columns; the index for the subplot \n",
    "        plt.imshow(x[i].reshape(28, 28), # this will show the image except we will have to reshape to 28 by 28 because we flattened it in the previous task.\n",
    "                   cmap = 'binary') # \"binary\" so that we see the black and white images as they are.\n",
    "        plt.xticks([])\n",
    "        plt.yticks([])\n",
    "        if labels: # if labels is true,\n",
    "            plt.xlabel(np.argmax(p[i])) # then we also want to label our X axis.\n",
    "    plt.show()\n",
    "    return"
   ]
  },
  {
   "cell_type": "code",
   "execution_count": 2,
   "id": "71a1a446",
   "metadata": {},
   "outputs": [
    {
     "name": "stdout",
     "output_type": "stream",
     "text": [
      "Requirement already satisfied: tensorflow in c:\\users\\vlaar\\anaconda3\\lib\\site-packages (2.19.0)\n",
      "Requirement already satisfied: absl-py>=1.0.0 in c:\\users\\vlaar\\anaconda3\\lib\\site-packages (from tensorflow) (2.2.2)\n",
      "Requirement already satisfied: astunparse>=1.6.0 in c:\\users\\vlaar\\anaconda3\\lib\\site-packages (from tensorflow) (1.6.3)\n",
      "Requirement already satisfied: flatbuffers>=24.3.25 in c:\\users\\vlaar\\anaconda3\\lib\\site-packages (from tensorflow) (25.2.10)\n",
      "Requirement already satisfied: gast!=0.5.0,!=0.5.1,!=0.5.2,>=0.2.1 in c:\\users\\vlaar\\anaconda3\\lib\\site-packages (from tensorflow) (0.6.0)\n",
      "Requirement already satisfied: google-pasta>=0.1.1 in c:\\users\\vlaar\\anaconda3\\lib\\site-packages (from tensorflow) (0.2.0)\n",
      "Requirement already satisfied: libclang>=13.0.0 in c:\\users\\vlaar\\anaconda3\\lib\\site-packages (from tensorflow) (18.1.1)\n",
      "Requirement already satisfied: opt-einsum>=2.3.2 in c:\\users\\vlaar\\anaconda3\\lib\\site-packages (from tensorflow) (3.4.0)\n",
      "Requirement already satisfied: packaging in c:\\users\\vlaar\\anaconda3\\lib\\site-packages (from tensorflow) (23.1)\n",
      "Requirement already satisfied: protobuf!=4.21.0,!=4.21.1,!=4.21.2,!=4.21.3,!=4.21.4,!=4.21.5,<6.0.0dev,>=3.20.3 in c:\\users\\vlaar\\anaconda3\\lib\\site-packages (from tensorflow) (5.29.3)\n",
      "Requirement already satisfied: requests<3,>=2.21.0 in c:\\users\\vlaar\\anaconda3\\lib\\site-packages (from tensorflow) (2.31.0)\n",
      "Requirement already satisfied: setuptools in c:\\users\\vlaar\\anaconda3\\lib\\site-packages (from tensorflow) (68.0.0)\n",
      "Requirement already satisfied: six>=1.12.0 in c:\\users\\vlaar\\anaconda3\\lib\\site-packages (from tensorflow) (1.16.0)\n",
      "Requirement already satisfied: termcolor>=1.1.0 in c:\\users\\vlaar\\anaconda3\\lib\\site-packages (from tensorflow) (3.1.0)\n",
      "Requirement already satisfied: typing-extensions>=3.6.6 in c:\\users\\vlaar\\anaconda3\\lib\\site-packages (from tensorflow) (4.12.2)\n",
      "Requirement already satisfied: wrapt>=1.11.0 in c:\\users\\vlaar\\anaconda3\\lib\\site-packages (from tensorflow) (1.14.1)\n",
      "Requirement already satisfied: grpcio<2.0,>=1.24.3 in c:\\users\\vlaar\\anaconda3\\lib\\site-packages (from tensorflow) (1.71.0)\n",
      "Requirement already satisfied: tensorboard~=2.19.0 in c:\\users\\vlaar\\anaconda3\\lib\\site-packages (from tensorflow) (2.19.0)\n",
      "Requirement already satisfied: keras>=3.5.0 in c:\\users\\vlaar\\anaconda3\\lib\\site-packages (from tensorflow) (3.9.2)\n",
      "Requirement already satisfied: numpy<2.2.0,>=1.26.0 in c:\\users\\vlaar\\anaconda3\\lib\\site-packages (from tensorflow) (2.1.3)\n",
      "Requirement already satisfied: h5py>=3.11.0 in c:\\users\\vlaar\\anaconda3\\lib\\site-packages (from tensorflow) (3.13.0)\n",
      "Requirement already satisfied: ml-dtypes<1.0.0,>=0.5.1 in c:\\users\\vlaar\\anaconda3\\lib\\site-packages (from tensorflow) (0.5.1)\n",
      "Requirement already satisfied: tensorflow-io-gcs-filesystem>=0.23.1 in c:\\users\\vlaar\\anaconda3\\lib\\site-packages (from tensorflow) (0.31.0)\n",
      "Requirement already satisfied: wheel<1.0,>=0.23.0 in c:\\users\\vlaar\\anaconda3\\lib\\site-packages (from astunparse>=1.6.0->tensorflow) (0.38.4)\n",
      "Requirement already satisfied: rich in c:\\users\\vlaar\\anaconda3\\lib\\site-packages (from keras>=3.5.0->tensorflow) (13.9.4)\n",
      "Requirement already satisfied: namex in c:\\users\\vlaar\\anaconda3\\lib\\site-packages (from keras>=3.5.0->tensorflow) (0.0.9)\n",
      "Requirement already satisfied: optree in c:\\users\\vlaar\\anaconda3\\lib\\site-packages (from keras>=3.5.0->tensorflow) (0.15.0)\n",
      "Requirement already satisfied: charset-normalizer<4,>=2 in c:\\users\\vlaar\\anaconda3\\lib\\site-packages (from requests<3,>=2.21.0->tensorflow) (2.0.4)\n",
      "Requirement already satisfied: idna<4,>=2.5 in c:\\users\\vlaar\\anaconda3\\lib\\site-packages (from requests<3,>=2.21.0->tensorflow) (3.4)\n",
      "Requirement already satisfied: urllib3<3,>=1.21.1 in c:\\users\\vlaar\\anaconda3\\lib\\site-packages (from requests<3,>=2.21.0->tensorflow) (1.26.16)\n",
      "Requirement already satisfied: certifi>=2017.4.17 in c:\\users\\vlaar\\anaconda3\\lib\\site-packages (from requests<3,>=2.21.0->tensorflow) (2023.7.22)\n",
      "Requirement already satisfied: markdown>=2.6.8 in c:\\users\\vlaar\\anaconda3\\lib\\site-packages (from tensorboard~=2.19.0->tensorflow) (3.4.1)\n",
      "Requirement already satisfied: tensorboard-data-server<0.8.0,>=0.7.0 in c:\\users\\vlaar\\anaconda3\\lib\\site-packages (from tensorboard~=2.19.0->tensorflow) (0.7.2)\n",
      "Requirement already satisfied: werkzeug>=1.0.1 in c:\\users\\vlaar\\anaconda3\\lib\\site-packages (from tensorboard~=2.19.0->tensorflow) (2.2.3)\n",
      "Requirement already satisfied: MarkupSafe>=2.1.1 in c:\\users\\vlaar\\anaconda3\\lib\\site-packages (from werkzeug>=1.0.1->tensorboard~=2.19.0->tensorflow) (2.1.1)\n",
      "Requirement already satisfied: markdown-it-py>=2.2.0 in c:\\users\\vlaar\\anaconda3\\lib\\site-packages (from rich->keras>=3.5.0->tensorflow) (2.2.0)\n",
      "Requirement already satisfied: pygments<3.0.0,>=2.13.0 in c:\\users\\vlaar\\anaconda3\\lib\\site-packages (from rich->keras>=3.5.0->tensorflow) (2.15.1)\n",
      "Requirement already satisfied: mdurl~=0.1 in c:\\users\\vlaar\\anaconda3\\lib\\site-packages (from markdown-it-py>=2.2.0->rich->keras>=3.5.0->tensorflow) (0.1.0)\n"
     ]
    }
   ],
   "source": [
    "!pip install tensorflow"
   ]
  },
  {
   "cell_type": "code",
   "execution_count": 5,
   "id": "ec3e5b58",
   "metadata": {},
   "outputs": [
    {
     "name": "stderr",
     "output_type": "stream",
     "text": [
      "\n",
      "A module that was compiled using NumPy 1.x cannot be run in\n",
      "NumPy 2.1.3 as it may crash. To support both 1.x and 2.x\n",
      "versions of NumPy, modules must be compiled with NumPy 2.0.\n",
      "Some module may need to rebuild instead e.g. with 'pybind11>=2.12'.\n",
      "\n",
      "If you are a user of the module, the easiest solution will be to\n",
      "downgrade to 'numpy<2' or try to upgrade the affected module.\n",
      "We expect that some modules will need time to support NumPy 2.\n",
      "\n",
      "Traceback (most recent call last):  File \"<frozen runpy>\", line 198, in _run_module_as_main\n",
      "  File \"<frozen runpy>\", line 88, in _run_code\n",
      "  File \"c:\\Users\\vlaar\\anaconda3\\Lib\\site-packages\\ipykernel_launcher.py\", line 17, in <module>\n",
      "    app.launch_new_instance()\n",
      "  File \"c:\\Users\\vlaar\\anaconda3\\Lib\\site-packages\\traitlets\\config\\application.py\", line 992, in launch_instance\n",
      "    app.start()\n",
      "  File \"c:\\Users\\vlaar\\anaconda3\\Lib\\site-packages\\ipykernel\\kernelapp.py\", line 736, in start\n",
      "    self.io_loop.start()\n",
      "  File \"c:\\Users\\vlaar\\anaconda3\\Lib\\site-packages\\tornado\\platform\\asyncio.py\", line 195, in start\n",
      "    self.asyncio_loop.run_forever()\n",
      "  File \"c:\\Users\\vlaar\\anaconda3\\Lib\\asyncio\\base_events.py\", line 607, in run_forever\n",
      "    self._run_once()\n",
      "  File \"c:\\Users\\vlaar\\anaconda3\\Lib\\asyncio\\base_events.py\", line 1922, in _run_once\n",
      "    handle._run()\n",
      "  File \"c:\\Users\\vlaar\\anaconda3\\Lib\\asyncio\\events.py\", line 80, in _run\n",
      "    self._context.run(self._callback, *self._args)\n",
      "  File \"c:\\Users\\vlaar\\anaconda3\\Lib\\site-packages\\ipykernel\\kernelbase.py\", line 516, in dispatch_queue\n",
      "    await self.process_one()\n",
      "  File \"c:\\Users\\vlaar\\anaconda3\\Lib\\site-packages\\ipykernel\\kernelbase.py\", line 505, in process_one\n",
      "    await dispatch(*args)\n",
      "  File \"c:\\Users\\vlaar\\anaconda3\\Lib\\site-packages\\ipykernel\\kernelbase.py\", line 412, in dispatch_shell\n",
      "    await result\n",
      "  File \"c:\\Users\\vlaar\\anaconda3\\Lib\\site-packages\\ipykernel\\kernelbase.py\", line 740, in execute_request\n",
      "    reply_content = await reply_content\n",
      "  File \"c:\\Users\\vlaar\\anaconda3\\Lib\\site-packages\\ipykernel\\ipkernel.py\", line 422, in do_execute\n",
      "    res = shell.run_cell(\n",
      "  File \"c:\\Users\\vlaar\\anaconda3\\Lib\\site-packages\\ipykernel\\zmqshell.py\", line 546, in run_cell\n",
      "    return super().run_cell(*args, **kwargs)\n",
      "  File \"c:\\Users\\vlaar\\anaconda3\\Lib\\site-packages\\IPython\\core\\interactiveshell.py\", line 3024, in run_cell\n",
      "    result = self._run_cell(\n",
      "  File \"c:\\Users\\vlaar\\anaconda3\\Lib\\site-packages\\IPython\\core\\interactiveshell.py\", line 3079, in _run_cell\n",
      "    result = runner(coro)\n",
      "  File \"c:\\Users\\vlaar\\anaconda3\\Lib\\site-packages\\IPython\\core\\async_helpers.py\", line 129, in _pseudo_sync_runner\n",
      "    coro.send(None)\n",
      "  File \"c:\\Users\\vlaar\\anaconda3\\Lib\\site-packages\\IPython\\core\\interactiveshell.py\", line 3284, in run_cell_async\n",
      "    has_raised = await self.run_ast_nodes(code_ast.body, cell_name,\n",
      "  File \"c:\\Users\\vlaar\\anaconda3\\Lib\\site-packages\\IPython\\core\\interactiveshell.py\", line 3466, in run_ast_nodes\n",
      "    if await self.run_code(code, result, async_=asy):\n",
      "  File \"c:\\Users\\vlaar\\anaconda3\\Lib\\site-packages\\IPython\\core\\interactiveshell.py\", line 3526, in run_code\n",
      "    exec(code_obj, self.user_global_ns, self.user_ns)\n",
      "  File \"C:\\Users\\vlaar\\AppData\\Local\\Temp\\ipykernel_7300\\1049088878.py\", line 3, in <module>\n",
      "    import matplotlib.pyplot as plt\n",
      "  File \"c:\\Users\\vlaar\\anaconda3\\Lib\\site-packages\\matplotlib\\__init__.py\", line 129, in <module>\n",
      "    from . import _api, _version, cbook, _docstring, rcsetup\n",
      "  File \"c:\\Users\\vlaar\\anaconda3\\Lib\\site-packages\\matplotlib\\rcsetup.py\", line 27, in <module>\n",
      "    from matplotlib.colors import Colormap, is_color_like\n",
      "  File \"c:\\Users\\vlaar\\anaconda3\\Lib\\site-packages\\matplotlib\\colors.py\", line 56, in <module>\n",
      "    from matplotlib import _api, _cm, cbook, scale\n",
      "  File \"c:\\Users\\vlaar\\anaconda3\\Lib\\site-packages\\matplotlib\\scale.py\", line 22, in <module>\n",
      "    from matplotlib.ticker import (\n",
      "  File \"c:\\Users\\vlaar\\anaconda3\\Lib\\site-packages\\matplotlib\\ticker.py\", line 138, in <module>\n",
      "    from matplotlib import transforms as mtransforms\n",
      "  File \"c:\\Users\\vlaar\\anaconda3\\Lib\\site-packages\\matplotlib\\transforms.py\", line 49, in <module>\n",
      "    from matplotlib._path import (\n"
     ]
    },
    {
     "ename": "AttributeError",
     "evalue": "_ARRAY_API not found",
     "output_type": "error",
     "traceback": [
      "\u001b[1;31m---------------------------------------------------------------------------\u001b[0m",
      "\u001b[1;31mAttributeError\u001b[0m                            Traceback (most recent call last)",
      "\u001b[1;31mAttributeError\u001b[0m: _ARRAY_API not found"
     ]
    },
    {
     "ename": "ImportError",
     "evalue": "numpy.core.multiarray failed to import",
     "output_type": "error",
     "traceback": [
      "\u001b[1;31m---------------------------------------------------------------------------\u001b[0m",
      "\u001b[1;31mImportError\u001b[0m                               Traceback (most recent call last)",
      "Cell \u001b[1;32mIn[5], line 3\u001b[0m\n\u001b[0;32m      1\u001b[0m \u001b[38;5;28;01mimport\u001b[39;00m \u001b[38;5;21;01mnumpy\u001b[39;00m \u001b[38;5;28;01mas\u001b[39;00m \u001b[38;5;21;01mnp\u001b[39;00m\n\u001b[0;32m      2\u001b[0m \u001b[38;5;66;03m#from tensorflow.keras.datasets import mnist\u001b[39;00m\n\u001b[1;32m----> 3\u001b[0m \u001b[38;5;28;01mimport\u001b[39;00m \u001b[38;5;21;01mmatplotlib\u001b[39;00m\u001b[38;5;21;01m.\u001b[39;00m\u001b[38;5;21;01mpyplot\u001b[39;00m \u001b[38;5;28;01mas\u001b[39;00m \u001b[38;5;21;01mplt\u001b[39;00m\n\u001b[0;32m      4\u001b[0m \u001b[38;5;66;03m#from tensorflow.keras.models import Sequential, Model\u001b[39;00m\n\u001b[0;32m      5\u001b[0m \u001b[38;5;66;03m#from tensorflow.keras.layers import Dense, Input\u001b[39;00m\n\u001b[0;32m      6\u001b[0m \u001b[38;5;66;03m#from tensorflow.keras.callbacks import EarlyStopping, LambdaCallback\u001b[39;00m\n\u001b[0;32m      7\u001b[0m \u001b[38;5;66;03m#from tensorflow.keras.utils import to_categorical\u001b[39;00m\n\u001b[0;32m      8\u001b[0m \u001b[38;5;28;01mimport\u001b[39;00m \u001b[38;5;21;01mrandom\u001b[39;00m\n",
      "File \u001b[1;32mc:\\Users\\vlaar\\anaconda3\\Lib\\site-packages\\matplotlib\\__init__.py:129\u001b[0m\n\u001b[0;32m    125\u001b[0m \u001b[38;5;28;01mfrom\u001b[39;00m \u001b[38;5;21;01mpackaging\u001b[39;00m\u001b[38;5;21;01m.\u001b[39;00m\u001b[38;5;21;01mversion\u001b[39;00m \u001b[38;5;28;01mimport\u001b[39;00m parse \u001b[38;5;28;01mas\u001b[39;00m parse_version\n\u001b[0;32m    127\u001b[0m \u001b[38;5;66;03m# cbook must import matplotlib only within function\u001b[39;00m\n\u001b[0;32m    128\u001b[0m \u001b[38;5;66;03m# definitions, so it is safe to import from it here.\u001b[39;00m\n\u001b[1;32m--> 129\u001b[0m \u001b[38;5;28;01mfrom\u001b[39;00m \u001b[38;5;21;01m.\u001b[39;00m \u001b[38;5;28;01mimport\u001b[39;00m _api, _version, cbook, _docstring, rcsetup\n\u001b[0;32m    130\u001b[0m \u001b[38;5;28;01mfrom\u001b[39;00m \u001b[38;5;21;01mmatplotlib\u001b[39;00m\u001b[38;5;21;01m.\u001b[39;00m\u001b[38;5;21;01mcbook\u001b[39;00m \u001b[38;5;28;01mimport\u001b[39;00m sanitize_sequence\n\u001b[0;32m    131\u001b[0m \u001b[38;5;28;01mfrom\u001b[39;00m \u001b[38;5;21;01mmatplotlib\u001b[39;00m\u001b[38;5;21;01m.\u001b[39;00m\u001b[38;5;21;01m_api\u001b[39;00m \u001b[38;5;28;01mimport\u001b[39;00m MatplotlibDeprecationWarning\n",
      "File \u001b[1;32mc:\\Users\\vlaar\\anaconda3\\Lib\\site-packages\\matplotlib\\rcsetup.py:27\u001b[0m\n\u001b[0;32m     25\u001b[0m \u001b[38;5;28;01mfrom\u001b[39;00m \u001b[38;5;21;01mmatplotlib\u001b[39;00m \u001b[38;5;28;01mimport\u001b[39;00m _api, cbook\n\u001b[0;32m     26\u001b[0m \u001b[38;5;28;01mfrom\u001b[39;00m \u001b[38;5;21;01mmatplotlib\u001b[39;00m\u001b[38;5;21;01m.\u001b[39;00m\u001b[38;5;21;01mcbook\u001b[39;00m \u001b[38;5;28;01mimport\u001b[39;00m ls_mapper\n\u001b[1;32m---> 27\u001b[0m \u001b[38;5;28;01mfrom\u001b[39;00m \u001b[38;5;21;01mmatplotlib\u001b[39;00m\u001b[38;5;21;01m.\u001b[39;00m\u001b[38;5;21;01mcolors\u001b[39;00m \u001b[38;5;28;01mimport\u001b[39;00m Colormap, is_color_like\n\u001b[0;32m     28\u001b[0m \u001b[38;5;28;01mfrom\u001b[39;00m \u001b[38;5;21;01mmatplotlib\u001b[39;00m\u001b[38;5;21;01m.\u001b[39;00m\u001b[38;5;21;01m_fontconfig_pattern\u001b[39;00m \u001b[38;5;28;01mimport\u001b[39;00m parse_fontconfig_pattern\n\u001b[0;32m     29\u001b[0m \u001b[38;5;28;01mfrom\u001b[39;00m \u001b[38;5;21;01mmatplotlib\u001b[39;00m\u001b[38;5;21;01m.\u001b[39;00m\u001b[38;5;21;01m_enums\u001b[39;00m \u001b[38;5;28;01mimport\u001b[39;00m JoinStyle, CapStyle\n",
      "File \u001b[1;32mc:\\Users\\vlaar\\anaconda3\\Lib\\site-packages\\matplotlib\\colors.py:56\u001b[0m\n\u001b[0;32m     54\u001b[0m \u001b[38;5;28;01mimport\u001b[39;00m \u001b[38;5;21;01mmatplotlib\u001b[39;00m \u001b[38;5;28;01mas\u001b[39;00m \u001b[38;5;21;01mmpl\u001b[39;00m\n\u001b[0;32m     55\u001b[0m \u001b[38;5;28;01mimport\u001b[39;00m \u001b[38;5;21;01mnumpy\u001b[39;00m \u001b[38;5;28;01mas\u001b[39;00m \u001b[38;5;21;01mnp\u001b[39;00m\n\u001b[1;32m---> 56\u001b[0m \u001b[38;5;28;01mfrom\u001b[39;00m \u001b[38;5;21;01mmatplotlib\u001b[39;00m \u001b[38;5;28;01mimport\u001b[39;00m _api, _cm, cbook, scale\n\u001b[0;32m     57\u001b[0m \u001b[38;5;28;01mfrom\u001b[39;00m \u001b[38;5;21;01m.\u001b[39;00m\u001b[38;5;21;01m_color_data\u001b[39;00m \u001b[38;5;28;01mimport\u001b[39;00m BASE_COLORS, TABLEAU_COLORS, CSS4_COLORS, XKCD_COLORS\n\u001b[0;32m     60\u001b[0m \u001b[38;5;28;01mclass\u001b[39;00m \u001b[38;5;21;01m_ColorMapping\u001b[39;00m(\u001b[38;5;28mdict\u001b[39m):\n",
      "File \u001b[1;32mc:\\Users\\vlaar\\anaconda3\\Lib\\site-packages\\matplotlib\\scale.py:22\u001b[0m\n\u001b[0;32m     20\u001b[0m \u001b[38;5;28;01mimport\u001b[39;00m \u001b[38;5;21;01mmatplotlib\u001b[39;00m \u001b[38;5;28;01mas\u001b[39;00m \u001b[38;5;21;01mmpl\u001b[39;00m\n\u001b[0;32m     21\u001b[0m \u001b[38;5;28;01mfrom\u001b[39;00m \u001b[38;5;21;01mmatplotlib\u001b[39;00m \u001b[38;5;28;01mimport\u001b[39;00m _api, _docstring\n\u001b[1;32m---> 22\u001b[0m \u001b[38;5;28;01mfrom\u001b[39;00m \u001b[38;5;21;01mmatplotlib\u001b[39;00m\u001b[38;5;21;01m.\u001b[39;00m\u001b[38;5;21;01mticker\u001b[39;00m \u001b[38;5;28;01mimport\u001b[39;00m (\n\u001b[0;32m     23\u001b[0m     NullFormatter, ScalarFormatter, LogFormatterSciNotation, LogitFormatter,\n\u001b[0;32m     24\u001b[0m     NullLocator, LogLocator, AutoLocator, AutoMinorLocator,\n\u001b[0;32m     25\u001b[0m     SymmetricalLogLocator, AsinhLocator, LogitLocator)\n\u001b[0;32m     26\u001b[0m \u001b[38;5;28;01mfrom\u001b[39;00m \u001b[38;5;21;01mmatplotlib\u001b[39;00m\u001b[38;5;21;01m.\u001b[39;00m\u001b[38;5;21;01mtransforms\u001b[39;00m \u001b[38;5;28;01mimport\u001b[39;00m Transform, IdentityTransform\n\u001b[0;32m     29\u001b[0m \u001b[38;5;28;01mclass\u001b[39;00m \u001b[38;5;21;01mScaleBase\u001b[39;00m:\n",
      "File \u001b[1;32mc:\\Users\\vlaar\\anaconda3\\Lib\\site-packages\\matplotlib\\ticker.py:138\u001b[0m\n\u001b[0;32m    136\u001b[0m \u001b[38;5;28;01mimport\u001b[39;00m \u001b[38;5;21;01mmatplotlib\u001b[39;00m \u001b[38;5;28;01mas\u001b[39;00m \u001b[38;5;21;01mmpl\u001b[39;00m\n\u001b[0;32m    137\u001b[0m \u001b[38;5;28;01mfrom\u001b[39;00m \u001b[38;5;21;01mmatplotlib\u001b[39;00m \u001b[38;5;28;01mimport\u001b[39;00m _api, cbook\n\u001b[1;32m--> 138\u001b[0m \u001b[38;5;28;01mfrom\u001b[39;00m \u001b[38;5;21;01mmatplotlib\u001b[39;00m \u001b[38;5;28;01mimport\u001b[39;00m transforms \u001b[38;5;28;01mas\u001b[39;00m mtransforms\n\u001b[0;32m    140\u001b[0m _log \u001b[38;5;241m=\u001b[39m logging\u001b[38;5;241m.\u001b[39mgetLogger(\u001b[38;5;18m__name__\u001b[39m)\n\u001b[0;32m    142\u001b[0m __all__ \u001b[38;5;241m=\u001b[39m (\u001b[38;5;124m'\u001b[39m\u001b[38;5;124mTickHelper\u001b[39m\u001b[38;5;124m'\u001b[39m, \u001b[38;5;124m'\u001b[39m\u001b[38;5;124mFormatter\u001b[39m\u001b[38;5;124m'\u001b[39m, \u001b[38;5;124m'\u001b[39m\u001b[38;5;124mFixedFormatter\u001b[39m\u001b[38;5;124m'\u001b[39m,\n\u001b[0;32m    143\u001b[0m            \u001b[38;5;124m'\u001b[39m\u001b[38;5;124mNullFormatter\u001b[39m\u001b[38;5;124m'\u001b[39m, \u001b[38;5;124m'\u001b[39m\u001b[38;5;124mFuncFormatter\u001b[39m\u001b[38;5;124m'\u001b[39m, \u001b[38;5;124m'\u001b[39m\u001b[38;5;124mFormatStrFormatter\u001b[39m\u001b[38;5;124m'\u001b[39m,\n\u001b[0;32m    144\u001b[0m            \u001b[38;5;124m'\u001b[39m\u001b[38;5;124mStrMethodFormatter\u001b[39m\u001b[38;5;124m'\u001b[39m, \u001b[38;5;124m'\u001b[39m\u001b[38;5;124mScalarFormatter\u001b[39m\u001b[38;5;124m'\u001b[39m, \u001b[38;5;124m'\u001b[39m\u001b[38;5;124mLogFormatter\u001b[39m\u001b[38;5;124m'\u001b[39m,\n\u001b[1;32m   (...)\u001b[0m\n\u001b[0;32m    150\u001b[0m            \u001b[38;5;124m'\u001b[39m\u001b[38;5;124mMultipleLocator\u001b[39m\u001b[38;5;124m'\u001b[39m, \u001b[38;5;124m'\u001b[39m\u001b[38;5;124mMaxNLocator\u001b[39m\u001b[38;5;124m'\u001b[39m, \u001b[38;5;124m'\u001b[39m\u001b[38;5;124mAutoMinorLocator\u001b[39m\u001b[38;5;124m'\u001b[39m,\n\u001b[0;32m    151\u001b[0m            \u001b[38;5;124m'\u001b[39m\u001b[38;5;124mSymmetricalLogLocator\u001b[39m\u001b[38;5;124m'\u001b[39m, \u001b[38;5;124m'\u001b[39m\u001b[38;5;124mAsinhLocator\u001b[39m\u001b[38;5;124m'\u001b[39m, \u001b[38;5;124m'\u001b[39m\u001b[38;5;124mLogitLocator\u001b[39m\u001b[38;5;124m'\u001b[39m)\n",
      "File \u001b[1;32mc:\\Users\\vlaar\\anaconda3\\Lib\\site-packages\\matplotlib\\transforms.py:49\u001b[0m\n\u001b[0;32m     46\u001b[0m \u001b[38;5;28;01mfrom\u001b[39;00m \u001b[38;5;21;01mnumpy\u001b[39;00m\u001b[38;5;21;01m.\u001b[39;00m\u001b[38;5;21;01mlinalg\u001b[39;00m \u001b[38;5;28;01mimport\u001b[39;00m inv\n\u001b[0;32m     48\u001b[0m \u001b[38;5;28;01mfrom\u001b[39;00m \u001b[38;5;21;01mmatplotlib\u001b[39;00m \u001b[38;5;28;01mimport\u001b[39;00m _api\n\u001b[1;32m---> 49\u001b[0m \u001b[38;5;28;01mfrom\u001b[39;00m \u001b[38;5;21;01mmatplotlib\u001b[39;00m\u001b[38;5;21;01m.\u001b[39;00m\u001b[38;5;21;01m_path\u001b[39;00m \u001b[38;5;28;01mimport\u001b[39;00m (\n\u001b[0;32m     50\u001b[0m     affine_transform, count_bboxes_overlapping_bbox, update_path_extents)\n\u001b[0;32m     51\u001b[0m \u001b[38;5;28;01mfrom\u001b[39;00m \u001b[38;5;21;01m.\u001b[39;00m\u001b[38;5;21;01mpath\u001b[39;00m \u001b[38;5;28;01mimport\u001b[39;00m Path\n\u001b[0;32m     53\u001b[0m DEBUG \u001b[38;5;241m=\u001b[39m \u001b[38;5;28;01mFalse\u001b[39;00m\n",
      "\u001b[1;31mImportError\u001b[0m: numpy.core.multiarray failed to import"
     ]
    }
   ],
   "source": [
    "import numpy as np\n",
    "#from tensorflow.keras.datasets import mnist\n",
    "import matplotlib.pyplot as plt\n",
    "#from tensorflow.keras.models import Sequential, Model\n",
    "#from tensorflow.keras.layers import Dense, Input\n",
    "#from tensorflow.keras.callbacks import EarlyStopping, LambdaCallback\n",
    "#from tensorflow.keras.utils import to_categorical\n",
    "import random\n",
    "import cv2\n",
    "import os\n",
    "%matplotlib inline"
   ]
  },
  {
   "cell_type": "markdown",
   "id": "9983cac4",
   "metadata": {},
   "source": [
    "# Stap 1: importeer de images\n",
    "#### - De afbeeldingen met ruis\n",
    "#### - De afbeeldingen zonder ruis\n",
    "Zorg dat de afbeeldingen:\n",
    "- In greyscale staan\n",
    "- De afbeeldingen genormaliseerd zijn (0-1)\n",
    "- De shape (len(dataset),28,28) is\n",
    "- Tip, je kan de dataset visualiseren met de plot functie, hierboven gedefinieerd"
   ]
  },
  {
   "cell_type": "code",
   "execution_count": null,
   "id": "d4e3c8ca",
   "metadata": {},
   "outputs": [],
   "source": [
    "# 1. Bepaal je basisfolder (relatief of absoluut)\n",
    "import os\n",
    "cwd = os.getcwd()\n",
    "# Optie A: automatisch gebaseerd op werkmap\n",
    "base_dir = os.path.join(cwd, \"Smart Industry\", \"College 4\", \"image denoise les\")\n",
    "# Optie B: handmatig aanpassen aan jouw omgeving\n",
    "# base_dir = r\"C:\\full\\path\\to\\Smart Industry\\College 4\\image denoise les\"\n",
    "\n",
    "undistorted_dir = os.path.join(base_dir, \"undistorted_images\")\n",
    "distorted_dir   = os.path.join(base_dir, \"distorted_images\")"
   ]
  },
  {
   "cell_type": "code",
   "execution_count": null,
   "id": "f3e89d4f",
   "metadata": {},
   "outputs": [],
   "source": [
    "# 2. Debug: print paden en mapinhoud\n",
    "print(\"Current working directory:\", cwd)\n",
    "print(\"Inhoud cwd:\", os.listdir(cwd))\n",
    "print(\"Constructed base_dir:\", base_dir)\n",
    "print(\"Inhoud base_dir:\", os.listdir(base_dir) if os.path.isdir(base_dir) else \"[niet gevonden]\")"
   ]
  },
  {
   "cell_type": "code",
   "execution_count": null,
   "id": "fa100850",
   "metadata": {},
   "outputs": [],
   "source": [
    "# 3. Functie om afbeeldingen in te laden uit een map\n",
    "def load_images_from_folder(folder_path):\n",
    "    images = []\n",
    "    for fname in sorted(os.listdir(folder_path)):\n",
    "        fpath = os.path.join(folder_path, fname)\n",
    "        if os.path.isfile(fpath):\n",
    "            img = cv2.imread(fpath, cv2.IMREAD_GRAYSCALE)\n",
    "            if img is None:\n",
    "                continue\n",
    "            img_resized = cv2.resize(img, (28, 28))\n",
    "            img_norm = img_resized.astype('float32') / 255.0\n",
    "            images.append(img_norm)\n",
    "    return np.array(images)"
   ]
  },
  {
   "cell_type": "code",
   "execution_count": null,
   "id": "0dd7f55c",
   "metadata": {},
   "outputs": [],
   "source": [
    "# 4. Laad de datasets\n",
    "x_clean = load_images_from_folder(undistorted_dir)\n",
    "x_noisy = load_images_from_folder(distorted_dir)\n",
    "```"
   ]
  },
  {
   "cell_type": "code",
   "execution_count": null,
   "id": "5fd877a8",
   "metadata": {},
   "outputs": [],
   "source": [
    "# 5. Controleer shapes en waardenbereik\n",
    "print(f\"Clean data shape:  {x_clean.shape}, range: [%.3f, %.3f]\" % (x_clean.min(), x_clean.max()))\n",
    "print(f\"Noisy data shape:  {x_noisy.shape}, range: [%.3f, %.3f]\" % (x_noisy.min(), x_noisy.max()))"
   ]
  },
  {
   "cell_type": "code",
   "execution_count": null,
   "id": "fe361923",
   "metadata": {},
   "outputs": [],
   "source": [
    "# 6. Visualiseer de eerste 10 afbeeldingen\n",
    "print(\"Eerste 10 verstoorde (noisy) beelden:\")\n",
    "plot(x_noisy)\n",
    "print(\"Eerste 10 ongestoorde (clean) beelden:\")\n",
    "plot(x_clean)"
   ]
  },
  {
   "cell_type": "markdown",
   "id": "81e36870",
   "metadata": {},
   "source": [
    "# Stap 2: Voeg noise toe\n",
    "- Voeg ruis toe aan de afbeeldingen, zoek zelf uit hoe je dit moet doen\n",
    "- kijk of het goed is gegaan door de ruis te vergelijken met de gekregen afbeeldingen met ruis"
   ]
  },
  {
   "cell_type": "code",
   "execution_count": null,
   "id": "9cb2576f",
   "metadata": {},
   "outputs": [],
   "source": [
    "# 7. Voeg zelf Gaussian noise toe aan de clean-set\n",
    "noise_factor = 0.5\n",
    "np.random.seed(42)  # voor reproduceerbaarheid\n",
    "x_synth_noisy = x_clean + noise_factor * np.random.normal(loc=0.0, scale=1.0, size=x_clean.shape)\n",
    "# Clip om binnen [0,1] te blijven\n",
    "x_synth_noisy = np.clip(x_synth_noisy, 0., 1.)\n",
    "print(f\"Synth. noisy shape: {x_synth_noisy.shape}, range: [{x_synth_noisy.min():.3f}, {x_synth_noisy.max():.3f}]\")"
   ]
  },
  {
   "cell_type": "code",
   "execution_count": null,
   "id": "28a350bd",
   "metadata": {},
   "outputs": [],
   "source": [
    "# 8. Vergelijk synthetische ruis met de originele ruis\n",
    "# Plot eerste 10 op elke rij: clean, echte noisy, synthetische noisy\n",
    "def compare_noise(clean, real_noisy, synth_noisy):\n",
    "    plt.figure(figsize=(20, 6))\n",
    "    for i in range(10):\n",
    "        # Clean\n",
    "        plt.subplot(3, 10, i+1)\n",
    "        plt.imshow(clean[i].reshape(28,28), cmap='binary')\n",
    "        plt.xticks([]); plt.yticks([])\n",
    "        if i == 0: plt.ylabel('Clean', size=12)\n",
    "        # Originele noisy\n",
    "        plt.subplot(3, 10, 10 + i+1)\n",
    "        plt.imshow(real_noisy[i].reshape(28,28), cmap='binary')\n",
    "        plt.xticks([]); plt.yticks([])\n",
    "        if i == 0: plt.ylabel('Orig noisy', size=12)\n",
    "        # Synth noisy\n",
    "        plt.subplot(3, 10, 20 + i+1)\n",
    "        plt.imshow(synth_noisy[i].reshape(28,28), cmap='binary')\n",
    "        plt.xticks([]); plt.yticks([])\n",
    "        if i == 0: plt.ylabel('Synth noisy', size=12)\n",
    "    plt.tight_layout()\n",
    "    plt.show()\n",
    "\n",
    "compare_noise(x_clean, x_noisy, x_synth_noisy)"
   ]
  },
  {
   "cell_type": "markdown",
   "id": "b452828b",
   "metadata": {},
   "source": [
    "# Stap 3: Train de autoencoder\n",
    "- Hieronder heb ik een model gedefinieerd die jullie gaan gebruiken\n",
    "- Voordat je het model kan trainen moet je de shape van de dataset in 2d zetten, gebruik hiervoor de reshape functie van numpy\n",
    "- De nieuwe shape moet (len(dataset), 784) zijn\n",
    "- Train vervolgens de dataset"
   ]
  },
  {
   "cell_type": "code",
   "execution_count": null,
   "id": "101a09aa",
   "metadata": {},
   "outputs": [],
   "source": [
    "def train_autoencoder(X_train_noisy, X_train):\n",
    "    \"\"\"\n",
    "    Deze functie heeft 2 datasets nodig, de afbeeldingen met ruis en die zonder ruis,\n",
    "    De functie geeft de getrainde autoencoder, en print de training loss.\n",
    "    \n",
    "    de .predict methode kan gebruikt worden om de predictions te krijgen\n",
    "    \n",
    "    \"\"\"\n",
    "    input_image = Input(shape=(784,))\n",
    "    encoded = Dense(64, activation='relu')(input_image)\n",
    "    decoded = Dense(784, activation='sigmoid')(encoded)\n",
    "    autoencoder = Model(input_image, decoded)\n",
    "    autoencoder.compile(loss='binary_crossentropy', optimizer='adam')\n",
    "    autoencoder.fit(\n",
    "        X_train_noisy, X_train, \n",
    "        epochs=100,\n",
    "        batch_size=512, \n",
    "        validation_split=0.2, # Use a validation split of 20%,\n",
    "        verbose=False, # set verbose to false because we don't want to actually use any build logs. \n",
    "        callbacks=[\n",
    "            EarlyStopping(monitor='val_loss', patience=5),\n",
    "            LambdaCallback(on_epoch_end=lambda e,l: print('{:.4f}'.format(l['val_loss']), end=' _ '))\n",
    "        ]\n",
    "    )\n",
    "    print(' _ ')\n",
    "    print('Training is complete!')\n",
    "    return autoencoder"
   ]
  },
  {
   "cell_type": "code",
   "execution_count": null,
   "id": "bd4f6d3d",
   "metadata": {},
   "outputs": [],
   "source": [
    "# 3.1 Reshape naar (n_samples, 784)\n",
    "X_train = x_clean.reshape((x_clean.shape[0], -1))\n",
    "X_train_noisy = x_synth_noisy.reshape((x_synth_noisy.shape[0], -1))\n",
    "print(f\"Reshaped X_train: {X_train.shape}, X_train_noisy: {X_train_noisy.shape}\")"
   ]
  },
  {
   "cell_type": "code",
   "execution_count": null,
   "id": "3700e781",
   "metadata": {},
   "outputs": [],
   "source": [
    "# 3.2 Definieer en train de autoencoder\n",
    "def train_autoencoder(X_train_noisy, X_train):\n",
    "    from tensorflow.keras.layers import Dense, Input\n",
    "    from tensorflow.keras.models import Model\n",
    "    from tensorflow.keras.callbacks import EarlyStopping, LambdaCallback\n",
    "\n",
    "    input_image = Input(shape=(784,))\n",
    "    encoded = Dense(64, activation='relu')(input_image)\n",
    "    decoded = Dense(784, activation='sigmoid')(encoded)\n",
    "    autoencoder = Model(input_image, decoded)\n",
    "    autoencoder.compile(loss='binary_crossentropy', optimizer='adam')\n",
    "    print(\"Training autoencoder...\")\n",
    "    autoencoder.fit(\n",
    "        X_train_noisy, X_train, \n",
    "        epochs=100,\n",
    "        batch_size=512, \n",
    "        validation_split=0.2,\n",
    "        verbose=False,\n",
    "        callbacks=[\n",
    "            EarlyStopping(monitor='val_loss', patience=5),\n",
    "            LambdaCallback(on_epoch_end=lambda e,l: print(f\"Epoch {e+1}: val_loss={l['val_loss']:.4f}\"))\n",
    "        ]\n",
    "    )\n",
    "    print('Training is complete!')\n",
    "    return autoencoder"
   ]
  },
  {
   "cell_type": "code",
   "execution_count": null,
   "id": "73d7e00a",
   "metadata": {},
   "outputs": [],
   "source": [
    "# 3.3 Train en sla model op\n",
    "autoencoder = train_autoencoder(X_train_noisy, X_train)"
   ]
  },
  {
   "cell_type": "markdown",
   "id": "ffa1c303",
   "metadata": {},
   "source": [
    "# Stap 3: Predictions\n",
    "- Haal nu de ruis weg bij de gekregen afbeeldingen met ruis\n",
    "- Zet eerst de afbeeldingen om naar 2d\n",
    "- Stop ze daarna in het model\n",
    "- Zet daarna de output weer terug naar 3d\n",
    "- kijk of de ruis goed is weggehaald"
   ]
  },
  {
   "cell_type": "code",
   "execution_count": null,
   "id": "e1dc9298",
   "metadata": {},
   "outputs": [],
   "source": [
    "# 3.4 Reshape de originele noisy afbeeldingen naar 2D\n",
    "X_real_noisy = x_noisy.reshape((x_noisy.shape[0], -1))\n",
    "print(f\"Reshaped X_real_noisy: {X_real_noisy.shape}\")"
   ]
  },
  {
   "cell_type": "code",
   "execution_count": null,
   "id": "dff74508",
   "metadata": {},
   "outputs": [],
   "source": [
    "# 3.5 Voer predictions uit (denoising)\n",
    "X_denoised_flat = autoencoder.predict(X_real_noisy)"
   ]
  },
  {
   "cell_type": "code",
   "execution_count": null,
   "id": "a452fb16",
   "metadata": {},
   "outputs": [],
   "source": [
    "# 3.6 Zet de output terug naar 3D (n_samples, 28, 28)\n",
    "x_denoised = X_denoised_flat.reshape((x_noisy.shape[0], 28, 28))\n",
    "print(f\"Denoised data shape: {x_denoised.shape}, range: [%.3f, %.3f]\" % (x_denoised.min(), x_denoised.max()))"
   ]
  },
  {
   "cell_type": "code",
   "execution_count": null,
   "id": "0222b937",
   "metadata": {},
   "outputs": [],
   "source": [
    "# 3.7 Visualiseer enkele resultaten\n",
    "def visualize_denoising(clean, noisy, denoised, num=10):\n",
    "    plt.figure(figsize=(20, 6))\n",
    "    for i in range(num):\n",
    "        # Noisy input\n",
    "        plt.subplot(3, num, i+1)\n",
    "        plt.imshow(noisy[i].reshape(28,28), cmap='binary')\n",
    "        plt.xticks([]); plt.yticks([])\n",
    "        if i == 0: plt.ylabel('Noisy', size=12)\n",
    "        # Denoised output\n",
    "        plt.subplot(3, num, num + i+1)\n",
    "        plt.imshow(denoised[i].reshape(28,28), cmap='binary')\n",
    "        plt.xticks([]); plt.yticks([])\n",
    "        if i == 0: plt.ylabel('Denoised', size=12)\n",
    "        # Clean ground truth\n",
    "        plt.subplot(3, num, 2*num + i+1)\n",
    "        plt.imshow(clean[i].reshape(28,28), cmap='binary')\n",
    "        plt.xticks([]); plt.yticks([])\n",
    "        if i == 0: plt.ylabel('Clean', size=12)\n",
    "    plt.tight_layout()\n",
    "    plt.show()\n",
    "\n",
    "visualize_denoising(x_clean, x_noisy, x_denoised, num=10)"
   ]
  }
 ],
 "metadata": {
  "kernelspec": {
   "display_name": "base",
   "language": "python",
   "name": "python3"
  },
  "language_info": {
   "codemirror_mode": {
    "name": "ipython",
    "version": 3
   },
   "file_extension": ".py",
   "mimetype": "text/x-python",
   "name": "python",
   "nbconvert_exporter": "python",
   "pygments_lexer": "ipython3",
   "version": "3.11.5"
  }
 },
 "nbformat": 4,
 "nbformat_minor": 5
}
