{
 "cells": [
  {
   "cell_type": "code",
   "execution_count": null,
   "id": "d49c5f19",
   "metadata": {},
   "outputs": [],
   "source": [
    "def plot(x, p=None, labels=False):\n",
    "    plt.figure(figsize=(20,2))\n",
    "    for i in range(10): # refers to the first 10 images that we are plotting\n",
    "        plt.subplot(1, 10, i+1) # 1 row and 10 columns; the index for the subplot \n",
    "        plt.imshow(x[i].reshape(28, 28), # this will show the image except we will have to reshape to 28 by 28 because we flattened it in the previous task.\n",
    "                   cmap = 'binary') # \"binary\" so that we see the black and white images as they are.\n",
    "        plt.xticks([])\n",
    "        plt.yticks([])\n",
    "        if labels: # if labels is true,\n",
    "            plt.xlabel(np.argmax(p[i])) # then we also want to label our X axis.\n",
    "    plt.show()\n",
    "    return"
   ]
  },
  {
   "cell_type": "code",
   "execution_count": null,
   "id": "ec3e5b58",
   "metadata": {},
   "outputs": [],
   "source": [
    "import numpy as np\n",
    "from tensorflow.keras.datasets import mnist\n",
    "from matplotlib import pyplot as plt\n",
    "from tensorflow.keras.models import Sequential, Model\n",
    "from tensorflow.keras.layers import Dense, Input\n",
    "from tensorflow.keras.callbacks import EarlyStopping, LambdaCallback\n",
    "from tensorflow.keras.utils import to_categorical\n",
    "import random\n",
    "import cv2\n",
    "import os\n",
    "%matplotlib inline"
   ]
  },
  {
   "cell_type": "markdown",
   "id": "9983cac4",
   "metadata": {},
   "source": [
    "# Stap 1: importeer de images\n",
    "#### - De afbeeldingen met ruis\n",
    "#### - De afbeeldingen zonder ruis\n",
    "Zorg dat de afbeeldingen:\n",
    "- In greyscale staan\n",
    "- De afbeeldingen genormaliseerd zijn (0-1)\n",
    "- De shape (len(dataset),28,28) is\n",
    "- Tip, je kan de dataset visualiseren met de plot functie, hierboven gedefinieerd"
   ]
  },
  {
   "cell_type": "code",
   "execution_count": null,
   "id": "d4e3c8ca",
   "metadata": {},
   "outputs": [],
   "source": []
  },
  {
   "cell_type": "code",
   "execution_count": null,
   "id": "f3e89d4f",
   "metadata": {},
   "outputs": [],
   "source": []
  },
  {
   "cell_type": "code",
   "execution_count": null,
   "id": "fa100850",
   "metadata": {},
   "outputs": [],
   "source": []
  },
  {
   "cell_type": "code",
   "execution_count": null,
   "id": "0dd7f55c",
   "metadata": {},
   "outputs": [],
   "source": []
  },
  {
   "cell_type": "markdown",
   "id": "81e36870",
   "metadata": {},
   "source": [
    "# Stap 2: Voeg noise toe\n",
    "- Voeg ruis toe aan de afbeeldingen, zoek zelf uit hoe je dit moet doen\n",
    "- kijk of het goed is gegaan door de ruis te vergelijken met de gekregen afbeeldingen met ruis"
   ]
  },
  {
   "cell_type": "code",
   "execution_count": null,
   "id": "9cb2576f",
   "metadata": {},
   "outputs": [],
   "source": []
  },
  {
   "cell_type": "code",
   "execution_count": null,
   "id": "28a350bd",
   "metadata": {},
   "outputs": [],
   "source": []
  },
  {
   "cell_type": "markdown",
   "id": "b452828b",
   "metadata": {},
   "source": [
    "# Stap 3: Train de autoencoder\n",
    "- Hieronder heb ik een model gedefinieerd die jullie gaan gebruiken\n",
    "- Voordat je het model kan trainen moet je de shape van de dataset in 2d zetten, gebruik hiervoor de reshape functie van numpy\n",
    "- De nieuwe shape moet (len(dataset), 784) zijn\n",
    "- Train vervolgens de dataset"
   ]
  },
  {
   "cell_type": "code",
   "execution_count": null,
   "id": "101a09aa",
   "metadata": {},
   "outputs": [],
   "source": [
    "def train_autoencoder(X_train_noisy, X_train):\n",
    "    \"\"\"\n",
    "    Deze functie heeft 2 datasets nodig, de afbeeldingen met ruis en die zonder ruis,\n",
    "    De functie geeft de getrainde autoencoder, en print de training loss.\n",
    "    \n",
    "    de .predict methode kan gebruikt worden om de predictions te krijgen\n",
    "    \n",
    "    \"\"\"\n",
    "    input_image = Input(shape=(784,))\n",
    "    encoded = Dense(64, activation='relu')(input_image)\n",
    "    decoded = Dense(784, activation='sigmoid')(encoded)\n",
    "    autoencoder = Model(input_image, decoded)\n",
    "    autoencoder.compile(loss='binary_crossentropy', optimizer='adam')\n",
    "    autoencoder.fit(\n",
    "        X_train_noisy, X_train, \n",
    "        epochs=100,\n",
    "        batch_size=512, \n",
    "        validation_split=0.2, # Use a validation split of 20%,\n",
    "        verbose=False, # set verbose to false because we don't want to actually use any build logs. \n",
    "        callbacks=[\n",
    "            EarlyStopping(monitor='val_loss', patience=5),\n",
    "            LambdaCallback(on_epoch_end=lambda e,l: print('{:.4f}'.format(l['val_loss']), end=' _ '))\n",
    "        ]\n",
    "    )\n",
    "    print(' _ ')\n",
    "    print('Training is complete!')\n",
    "    return autoencoder"
   ]
  },
  {
   "cell_type": "code",
   "execution_count": null,
   "id": "bd4f6d3d",
   "metadata": {},
   "outputs": [],
   "source": []
  },
  {
   "cell_type": "code",
   "execution_count": null,
   "id": "3700e781",
   "metadata": {},
   "outputs": [],
   "source": []
  },
  {
   "cell_type": "code",
   "execution_count": null,
   "id": "73d7e00a",
   "metadata": {},
   "outputs": [],
   "source": []
  },
  {
   "cell_type": "markdown",
   "id": "ffa1c303",
   "metadata": {},
   "source": [
    "# Stap 3: Predictions\n",
    "- Haal nu de ruis weg bij de gekregen afbeeldingen met ruis\n",
    "- Zet eerst de afbeeldingen om naar 2d\n",
    "- Stop ze daarna in het model\n",
    "- Zet daarna de output weer terug naar 3d\n",
    "- kijk of de ruis goed is weggehaald"
   ]
  },
  {
   "cell_type": "code",
   "execution_count": null,
   "id": "e1dc9298",
   "metadata": {},
   "outputs": [],
   "source": []
  },
  {
   "cell_type": "code",
   "execution_count": null,
   "id": "dff74508",
   "metadata": {},
   "outputs": [],
   "source": []
  },
  {
   "cell_type": "code",
   "execution_count": null,
   "id": "a452fb16",
   "metadata": {},
   "outputs": [],
   "source": []
  }
 ],
 "metadata": {
  "kernelspec": {
   "display_name": "Python 3 (ipykernel)",
   "language": "python",
   "name": "python3"
  },
  "language_info": {
   "codemirror_mode": {
    "name": "ipython",
    "version": 3
   },
   "file_extension": ".py",
   "mimetype": "text/x-python",
   "name": "python",
   "nbconvert_exporter": "python",
   "pygments_lexer": "ipython3",
   "version": "3.10.11"
  }
 },
 "nbformat": 4,
 "nbformat_minor": 5
}
