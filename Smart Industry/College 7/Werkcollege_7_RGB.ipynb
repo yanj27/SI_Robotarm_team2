{
 "cells": [
  {
   "cell_type": "markdown",
   "metadata": {},
   "source": [
    "## Outlierdetectie met **Kleuren**afbeeldingen\n",
    "### Is het een bos, een woestijn of een meer?\n",
    "\n",
    "Vandaag gaan we aan de slag met **kleurenafbeeldingen** voor outlierdetectie. Specifiek zullen we:\n",
    "\n",
    "1. Een **autoencoder** gebruiken voor feature-extractie en het detecteren van afwijkingen.\n",
    "2. Data categoriseren en outliers detecteren met behulp van **KNN (k-Nearest Neighbors)** en **DBSCAN (Density-Based Spatial Clustering of Applications with Noise)**.\n",
    "\n",
    "Dit bouwt voort op ons eerdere werk, met de extra uitdaging van het werken met RGB (kleur) waarden in afbeeldingen.\n",
    "\n",
    "---\n",
    "\n",
    "### **Stappenplan**\n",
    "\n",
    "#### **Stap 0**: Importeer de datasets\n",
    "- Download en importeer de datasets die beschikbaar zijn gesteld via Teams.\n",
    "\n",
    "#### **Stap 1**: Herkennen en gebruiken van kleurkanalen\n",
    "- Begrijp en haal de verschillende **kleurkanalen** (Rood, Groen, Blauw) uit de afbeeldingen.\n",
    "- Verken hoe deze kanalen bijdragen aan de algemene kenmerken van de afbeeldingen.\n",
    "- Train een auto encoder alleen op de blauw waardes van de lake images.\n",
    "- Check hoe deze werkt met een aantal test images (waar je dus ook alleen het blauw kanaal van pakt)\n",
    "    -   Deze test dataset moet ook een aantal bos / woestijn fotos bevatten\n",
    "\n",
    "\n"
   ]
  },
  {
   "cell_type": "code",
   "execution_count": 2,
   "metadata": {},
   "outputs": [
    {
     "data": {
      "text/plain": [
       "['.DS_Store',\n",
       " 'autoencoder_output.png',\n",
       " 'autoencoder_output_2.png',\n",
       " 'autoencoder_RGB.ipynb',\n",
       " 'Desert',\n",
       " 'Forest',\n",
       " 'Mixed',\n",
       " 'resized_lake_water',\n",
       " 'Werkcollege_7.pptx',\n",
       " 'Werkcollege_7_RGB.ipynb']"
      ]
     },
     "execution_count": 2,
     "metadata": {},
     "output_type": "execute_result"
    }
   ],
   "source": [
    "import os\n",
    "os.listdir()"
   ]
  },
  {
   "cell_type": "code",
   "execution_count": 4,
   "metadata": {},
   "outputs": [],
   "source": [
    "import cv2\n",
    "import os\n",
    "from PIL import Image\n",
    "import numpy as np\n",
    "from skimage import io\n",
    "\n",
    "\n",
    "def import_images(dir):\n",
    "    image_array = []\n",
    "    for filename in os.listdir(dir):\n",
    "\n",
    "        if filename.lower().endswith(('.png', '.jpg', '.jpeg', '.bmp', '.tiff', '.tif')):\n",
    "            image = io.imread(dir + \"/\" + filename)\n",
    "            image_array.append(image)\n",
    "            \n",
    "        \n",
    "    return image_array\n",
    "            \n",
    "\n",
    "\n",
    "desert = import_images('Mixed')\n",
    "\n"
   ]
  },
  {
   "cell_type": "code",
   "execution_count": 5,
   "metadata": {},
   "outputs": [],
   "source": [
    "image = desert[0]"
   ]
  },
  {
   "cell_type": "code",
   "execution_count": 6,
   "metadata": {},
   "outputs": [],
   "source": [
    "# Extract the blue channel\n",
    "blue_channel = image[:, :, 0]  # The first channel in BGR is blue\n",
    "\n",
    "# Resize the blue channel to a fixed size (optional)\n",
    "resized_blue_channel = cv2.resize(blue_channel, (128, 128), interpolation=cv2.INTER_LINEAR)\n",
    "\n"
   ]
  },
  {
   "cell_type": "markdown",
   "metadata": {},
   "source": [
    "### Stap 2: Kleurenhistogrammen gebruiken om foto's te categoriseren met KNN\n",
    "\n",
    "In deze stap gebruiken we kleurenhistogrammen om foto's te categoriseren in drie categorieën: **bos**, **woestijn** en **meer**.\n",
    "\n",
    "Net zoals vorige keer, gaan we een clustering uitvoeren met KNN. Dit keer maken we gebruik van **3 clusters** om de data te groeperen.\n",
    "\n",
    "Om dit te doen maken we gebruik van de volgende bronnen en de OpenCV-functie `cv2.calcHist`:\n",
    "\n",
    "- [PyImageSearch: OpenCV Image Histograms](https://pyimagesearch.com/2021/04/28/opencv-image-histograms-cv2-calchist/)\n",
    "- [GeeksforGeeks: cv2.calcHist Methode](https://www.geeksforgeeks.org/python-opencv-cv2-calchist-method/)\n",
    "\n",
    "---\n",
    "\n",
    "### Belangrijke Stappen:\n",
    "\n",
    "1. **Bereken Kleurenhistogrammen**:\n",
    "   - De functie `calculate_histogram` berekent de RGB-histogrammen voor elke afbeelding en combineert deze tot één enkele featurevector.\n",
    "\n",
    "2. **Dimensiereductie met PCA**:\n",
    "   - PCA reduceert de hoog-dimensionale histogramvectoren tot een lagere-dimensionale representatie (in dit geval 10 componenten).\n",
    "\n",
    "3. **Clustering met K-Means**:\n",
    "   - K-means wordt toegepast op de PCA-getransformeerde features om de afbeeldingen in 3 categorieën te clusteren.\n",
    "\n",
    "4. **Visualisatie**:\n",
    "   - De eerste twee PCA-componenten worden gevisualiseerd in een scatter plot, waarbij de kleuren de clusterlabels representeren.\n",
    "\n",
    "---\n",
    "\n",
    "\n",
    "Hiermee kun je een effectieve clustering van foto's uitvoeren op basis van hun kleurinformatie.\n",
    "\n"
   ]
  },
  {
   "cell_type": "code",
   "execution_count": null,
   "metadata": {},
   "outputs": [],
   "source": [
    "# Code van ChatGPT\n",
    "\n",
    "import cv2\n",
    "import numpy as np\n",
    "import os\n",
    "from sklearn.decomposition import PCA\n",
    "from sklearn.cluster import KMeans\n",
    "import matplotlib.pyplot as plt\n",
    "\n",
    "# Define a function to calculate color histograms\n",
    "def calculate_histogram(image_path):\n",
    "    image = cv2.imread(image_path)  # Read the image\n",
    "    if image is None:\n",
    "        return None\n",
    "    image = cv2.cvtColor(image, cv2.COLOR_BGR2RGB)  # Convert to RGB\n",
    "\n",
    "    # Calculate histograms for each channel\n",
    "    hist_r = cv2.calcHist([image], [0], None, [256], [0, 256]).flatten()  # Red\n",
    "    hist_g = cv2.calcHist([image], [1], None, [256], [0, 256]).flatten()  # Green\n",
    "    hist_b = cv2.calcHist([image], [2], None, [256], [0, 256]).flatten()  # Blue\n",
    "\n",
    "    # Concatenate histograms into a single feature vector\n",
    "    hist_feature = np.concatenate([hist_r, hist_g, hist_b])\n",
    "    return hist_feature"
   ]
  },
  {
   "cell_type": "markdown",
   "metadata": {},
   "source": [
    "### Stap 3: Gebruik DBSCAN voor het detecteren van outlier-afbeeldingen\n",
    "\n",
    "In deze stap maken we gebruik van **DBSCAN** (Density-Based Spatial Clustering of Applications with Noise) om outlier-afbeeldingen te detecteren. Dit algoritme is ideaal voor het identificeren van afwijkingen in datasets, zoals afbeeldingen met kleuren die sterk verschillen van de rest.\n",
    "\n",
    "---\n",
    "\n",
    "#### **Benodigde stappen**:\n",
    "\n",
    "1. **Bereken kleurenhistogrammen met OpenCV**:\n",
    "   - Gebruik de OpenCV-functie `cv2.calcHist` om de RGB-histogrammen van alle afbeeldingen te berekenen.\n",
    "   - Combineer de histogrammen van de afzonderlijke kleurkanalen (Rood, Groen, Blauw) tot één enkele featurevector per afbeelding.\n",
    "   - Deze histogrammen dienen als input voor het clustering-algoritme.\n",
    "\n",
    "2. **Train DBSCAN op vergelijkbare afbeeldingen**:\n",
    "   - Selecteer een dataset met afbeeldingen die qua kleur sterk op elkaar lijken (bijvoorbeeld alleen foto's van meren of bossen).\n",
    "   - Pas DBSCAN toe op de kleurenhistogrammen om de structuur van de data te leren en clusters te vormen.\n",
    "\n",
    "3. **Test op gemengde afbeeldingen**:\n",
    "   - Stel een testdataset samen die zowel vergelijkbare afbeeldingen bevat (bijvoorbeeld meren) als afbeeldingen met totaal verschillende kleuren (bijvoorbeeld woestijnen of stadsgezichten).\n",
    "   - Gebruik het getrainde DBSCAN-model om outliers te identificeren. Afbeeldingen die niet binnen een cluster vallen, worden beschouwd als outliers.\n",
    "\n",
    "4. **Analyseer de resultaten**:\n",
    "   - Controleer welke afbeeldingen door DBSCAN als outliers worden gemarkeerd.\n",
    "   - Evalueer de nauwkeurigheid door te vergelijken of de gemarkeerde outliers daadwerkelijk visueel verschillen van de rest van de dataset.\n",
    "\n",
    "---\n",
    "\n",
    "#### **Belangrijke punten**:\n",
    "- **Instellen van parameters**:\n",
    "  - DBSCAN heeft twee belangrijke parameters: `eps` (de maximale afstand tussen twee punten in een cluster) en `min_samples` (het minimum aantal punten nodig om een cluster te vormen). Experimenteer met deze parameters om optimale resultaten te krijgen.\n",
    "- **Gebruik PCA voor dimensiereductie**:\n",
    "  - Als de kleurenhistogrammen een hoge dimensie hebben, kun je PCA gebruiken om het aantal features te reduceren voordat je DBSCAN toepast.\n",
    "- **Outliers visualiseren**:\n",
    "  - Maak gebruik van scatter plots of voorbeelden van afbeeldingen om de outliers visueel te inspecteren.\n",
    "\n",
    "---\n",
    "\n",
    "Met DBSCAN kun je effectief outliers in een dataset detecteren, vooral wanneer er afbeeldingen met duidelijke kleurverschillen aanwezig zijn. Het combineren van `cv2.calcHist` met een zorgvuldig samengestelde testdataset maakt dit proces krachtig en inzichtelijk.\n"
   ]
  },
  {
   "cell_type": "code",
   "execution_count": null,
   "metadata": {},
   "outputs": [],
   "source": []
  },
  {
   "cell_type": "markdown",
   "metadata": {},
   "source": [
    "## Stap 4: Bouw een autoencoder met RGB waardes. \n",
    "Een voorbeeld staat gegeven in Teams (autoencoder_RGB.ipynb)\n",
    "- Voer de stappen uit. Mochten er dingen niet werken, los deze op. \n",
    "- Verklein eventueel de foto's zodat deze sneller runt. Of pak een kleinere dataset. \n",
    "- Trainen op deze dataset en 50 epochs, duurde voor mij 15 minuten.\n",
    "\n",
    "\n"
   ]
  },
  {
   "cell_type": "code",
   "execution_count": null,
   "metadata": {},
   "outputs": [],
   "source": []
  },
  {
   "cell_type": "markdown",
   "metadata": {},
   "source": [
    "## Stap 5: Bouw een Hybride Autoencoder (Optioneel)\n",
    "\n",
    "Tot nu toe hebben we gewerkt met een **grayscale autoencoder** of een volledige **RGB autoencoder**. \n",
    "\n",
    "Ook  hebben we met behulp van `cv2.calcHist` op een efficiënte manier de kleurinformatie van afbeeldingen verkregen.\n",
    "\n",
    "De volgende stap is om deze twee benaderingen te combineren. \n",
    "\n",
    "Kun je een grayscale autoencoder combineren met kleurhistogramwaarden om een snellere en efficiëntere autoencoder te maken die kleurinformatie verwerkt? \n",
    "\n",
    "Dit hybride model kan het beste van beide werelden benutten: de eenvoud van grayscale verwerking en de toegevoegde kracht van kleurinformatie.\n"
   ]
  }
 ],
 "metadata": {
  "kernelspec": {
   "display_name": "base",
   "language": "python",
   "name": "python3"
  },
  "language_info": {
   "codemirror_mode": {
    "name": "ipython",
    "version": 3
   },
   "file_extension": ".py",
   "mimetype": "text/x-python",
   "name": "python",
   "nbconvert_exporter": "python",
   "pygments_lexer": "ipython3",
   "version": "3.12.7"
  }
 },
 "nbformat": 4,
 "nbformat_minor": 2
}
