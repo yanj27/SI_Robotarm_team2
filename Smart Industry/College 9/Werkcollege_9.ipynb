{
 "cells": [
  {
   "cell_type": "markdown",
   "metadata": {},
   "source": [
    "# Werkcollege 9 - Robotarm team 2"
   ]
  },
  {
   "cell_type": "code",
   "execution_count": 11,
   "metadata": {},
   "outputs": [],
   "source": [
    "import os\n",
    "from glob import glob\n",
    "import re\n",
    "import numpy as np\n",
    "import cv2\n",
    "import matplotlib.pyplot as plt\n",
    "from PIL import Image\n",
    "from IPython.display import Video\n",
    "%matplotlib inline\n",
    "\n",
    "# from motion_detection_utils import *"
   ]
  },
  {
   "cell_type": "code",
   "execution_count": 2,
   "metadata": {},
   "outputs": [],
   "source": [
    "# get properly sorted images\n",
    "data_path = 'images'\n",
    "# image_paths = sorted(glob(f\"{data_path}/*.jpg\"), key=lambda x:float(re.findall(\"(\\d+)\",x)[0]))\n",
    "image_paths = []\n",
    "for image_name in os.listdir(data_path):\n",
    "    if '.jpg' in image_name:\n",
    "        image_paths.append(f'{data_path}/{image_name}')"
   ]
  },
  {
   "cell_type": "markdown",
   "metadata": {},
   "source": [
    "## Motion Mask - Optical Flow"
   ]
  },
  {
   "cell_type": "code",
   "execution_count": null,
   "metadata": {},
   "outputs": [],
   "source": [
    "def get_motion_mask(flow_mag, motion_thresh=1, kernel=np.ones((7,7))):\n",
    "    \"\"\" Obtains Detection Mask from Optical Flow Magnitude\n",
    "        Inputs:\n",
    "            flow_mag (array) Optical Flow magnitude\n",
    "            motion_thresh - thresold to determine motion\n",
    "            kernel - kernal for Morphological Operations\n",
    "        Outputs:\n",
    "            motion_mask - Binray Motion Mask\n",
    "        \"\"\"\n",
    "    motion_mask = np.uint8(flow_mag > motion_thresh)*255\n",
    "\n",
    "    motion_mask = cv2.erode(motion_mask, kernel, iterations=1)\n",
    "    motion_mask = cv2.morphologyEx(motion_mask, cv2.MORPH_OPEN, kernel, iterations=1)\n",
    "    motion_mask = cv2.morphologyEx(motion_mask, cv2.MORPH_CLOSE, kernel, iterations=3)\n",
    "    \n",
    "    return motion_mask\n",
    "\n",
    "def compute_flow(frame1, frame2):\n",
    "    # convert to grayscale\n",
    "    gray1 = cv2.cvtColor(frame1, cv2.COLOR_BGR2GRAY)\n",
    "    gray2 = cv2.cvtColor(frame2, cv2.COLOR_BGR2GRAY)\n",
    "\n",
    "    # blurr image\n",
    "    gray1 = cv2.GaussianBlur(gray1, dst=None, ksize=(3,3), sigmaX=5)\n",
    "    gray2 = cv2.GaussianBlur(gray2, dst=None, ksize=(3,3), sigmaX=5)\n",
    "\n",
    "    flow = cv2.calcOpticalFlowFarneback(gray1, gray2, None,\n",
    "                                        pyr_scale=0.75,\n",
    "                                        levels=3,\n",
    "                                        winsize=5,\n",
    "                                        iterations=3,\n",
    "                                        poly_n=10,\n",
    "                                        poly_sigma=1.2,\n",
    "                                        flags=0)\n",
    "    return flow\n",
    "\n",
    "\n",
    "def get_flow_viz(flow):\n",
    "    \"\"\" Obtains BGR image to Visualize the Optical Flow \n",
    "        \"\"\"\n",
    "    hsv = np.zeros((flow.shape[0], flow.shape[1], 3), dtype=np.uint8)\n",
    "    hsv[..., 1] = 255\n",
    "\n",
    "    mag, ang = cv2.cartToPolar(flow[..., 0], flow[..., 1])\n",
    "    hsv[..., 0] = ang*180/np.pi/2\n",
    "    hsv[..., 2] = cv2.normalize(mag, None, 0, 255, cv2.NORM_MINMAX)\n",
    "    rgb = cv2.cvtColor(hsv, cv2.COLOR_HSV2RGB)\n",
    "\n",
    "    return rgb"
   ]
  },
  {
   "cell_type": "code",
   "execution_count": null,
   "metadata": {},
   "outputs": [],
   "source": [
    "video_frames = []\n",
    "\n",
    "# get variable motion thresh based on prior knowledge of camera position\n",
    "motion_thresh = np.c_[np.linspace(0.3, 1, 2160)].repeat(3840, axis=-1)\n",
    "kernel = np.ones((7,7), dtype=np.uint8)\n",
    "\n",
    "for idx in range(1, len(image_paths)):\n",
    "    # read frames\n",
    "    frame1_bgr = cv2.imread(image_paths[idx - 1])\n",
    "    frame2_bgr = cv2.imread(image_paths[idx])\n",
    "\n",
    "    flow = compute_flow(frame1_bgr, frame2_bgr)\n",
    "\n",
    "    # separate into magntiude and angle\n",
    "    mag, ang = cv2.cartToPolar(flow[..., 0], flow[..., 1])\n",
    "\n",
    "    rgb = get_flow_viz(flow)\n",
    "    motion_thresh = np.c_[np.linspace(1e-6, 3e-2, 2160)].repeat(3840, axis=-1)\n",
    "    mask = get_motion_mask(mag/mag.max(), motion_thresh=motion_thresh)\n",
    "\n",
    "    # save image for GIF\n",
    "    fig = plt.figure(figsize=(15, 7))\n",
    "    plt.imshow(mask)\n",
    "    plt.axis('off')\n",
    "    # fig.savefig(f\"motion_mask_of/frame_{idx}.png\")\n",
    "    plt.close()\n",
    "\n",
    "    # OPTIONAL append to list for video\n",
    "    video_frames.append(mask)"
   ]
  },
  {
   "cell_type": "code",
   "execution_count": null,
   "metadata": {},
   "outputs": [],
   "source": [
    "fourcc = cv2.VideoWriter_fourcc(*'avc1')  # or 'XVID'\n",
    "out = cv2.VideoWriter('optical_flow_boat.mp4', fourcc, 25, (3840, 2160))\n",
    "\n",
    "for img in video_frames:\n",
    "    out.write(img)\n",
    "\n",
    "out.release()\n",
    "del out"
   ]
  },
  {
   "cell_type": "code",
   "execution_count": null,
   "metadata": {},
   "outputs": [],
   "source": [
    "\n",
    "Video(\"optical_flow_boat.mp4\", embed=True, width=800)"
   ]
  },
  {
   "cell_type": "markdown",
   "metadata": {},
   "source": [
    "## Motion Mask - Frame Differencing"
   ]
  },
  {
   "cell_type": "code",
   "execution_count": null,
   "metadata": {},
   "outputs": [],
   "source": [
    "def get_mask(frame1, frame2, kernel=np.array((9,9), dtype=np.uint8)):\n",
    "    \"\"\" Obtains image mask\n",
    "        Inputs: \n",
    "            frame1 - Grayscale frame at time t\n",
    "            frame2 - Grayscale frame at time t + 1\n",
    "            kernel - (NxN) array for Morphological Operations\n",
    "        Outputs: \n",
    "            mask - Thresholded mask for moving pixels\n",
    "        \"\"\"\n",
    "    frame_diff = cv2.subtract(frame2, frame1)\n",
    "\n",
    "    # blur the frame difference\n",
    "    frame_diff = cv2.medianBlur(frame_diff, 3)\n",
    "    \n",
    "    mask = cv2.adaptiveThreshold(frame_diff, 255, cv2.ADAPTIVE_THRESH_GAUSSIAN_C,\\\n",
    "                cv2.THRESH_BINARY_INV, 11, 3)\n",
    "\n",
    "    mask = cv2.medianBlur(mask, 3)\n",
    "\n",
    "    # morphological operations\n",
    "    mask = cv2.morphologyEx(mask, cv2.MORPH_CLOSE, kernel, iterations=1)\n",
    "\n",
    "    return mask"
   ]
  }
 ],
 "metadata": {
  "kernelspec": {
   "display_name": "base",
   "language": "python",
   "name": "python3"
  },
  "language_info": {
   "codemirror_mode": {
    "name": "ipython",
    "version": 3
   },
   "file_extension": ".py",
   "mimetype": "text/x-python",
   "name": "python",
   "nbconvert_exporter": "python",
   "pygments_lexer": "ipython3",
   "version": "3.12.7"
  }
 },
 "nbformat": 4,
 "nbformat_minor": 2
}
