{
 "cells": [
  {
   "cell_type": "markdown",
   "id": "cc38695d",
   "metadata": {},
   "source": [
    "# Inleiding\n",
    "\n",
    "In deze opdracht gaan jullie een clustering algoritme toepassen. Jullie kiezen 1 algoritme uit de volgende lijst:\n",
    "\n",
    "1. Mean-Shift Clustering\n",
    "2. Agglomerative Clustering (Ward)\n",
    "3. DBSCAN / OPTICS\n",
    "4. Gaussian Mixture Model\n",
    "\n",
    "Let op: In tegenstelling tot de eerste opdracht, voor deze en de resterende 1 opdracht worden jullie peer reviews alleen beoordeeld op een ja of nee basis. \n",
    "\n",
    "Zoals geschreven in de vakbeschrijving:\n",
    "\n",
    "\"Het niet op tijd of lui maken van een individuele peer review resulteert in een reductie van 0,5 punt voor het cijfer van de bijhorende opdracht van de reviewer.\"\n",
    "\n",
    "Gezien dat jullie peer reviews zijn sowieso kwalitatief beoordeeld voor Opdracht 1, is deze halfpunt reductie alleen voor Opdrachten 2 t/m 4 geldig. "
   ]
  },
  {
   "cell_type": "markdown",
   "id": "1a0cc327",
   "metadata": {},
   "source": [
    "### Algemene Coderen Conventies\n",
    "\n",
    "De volgorde van het python script is belangrijk. Zo zorg je bijvoorbeeld altijd dat eerst de benodigde packages worden ingeladen geïnstalleerd en geïmporteerd). Verder is het goed om van tevoren jouw working directory te controleren. \n",
    "\n",
    "Schrijf het python script daarom met een duidelijke indeling van met verschillende stappen. Bij elke stap dient toelichting worden gegeven:\n",
    "1. Wat is het doel van deze stap?\n",
    "2. Wat is de input van deze stap?\n",
    "3. Wat is de output van deze stap en waar heb je deze output hierna nog nodig?\n",
    "\n",
    "Hieronder voorbeelden van de verschillende punten hierboven."
   ]
  },
  {
   "cell_type": "code",
   "execution_count": null,
   "id": "05e4a7ed",
   "metadata": {},
   "outputs": [],
   "source": [
    "### Voorbeeld: Standaard Imports\n",
    "import numpy as np\n",
    "import matplotlib.pyplot as plt\n",
    "\n",
    "\n",
    "### Controleer Working Directory\n",
    "import os\n",
    "print(os.getcwd())\n",
    "\n",
    "# Pas je working directory aan indien gewenst\n",
    "path = 'C:\\\\Users\\\\rburrus\\\\Desktop\\\\Jupyter Notebook' # zet hier wat voor jou goed is\n",
    "os.chdir(path)\n",
    "print(os.getcwd())\n",
    "\n",
    "\n",
    "### Voorbeeld: Functie met Beschrijving Schrijven\n",
    "\n",
    "def voorbeeld_functie(parameter1, parameter2 = 2):\n",
    "    # Doel: dit functie maakt een bepaalde berekening\n",
    "    # In: parameter1 (float), parameter2 (integer)\n",
    "    # Uit: parameter1 macht parameter2 (standaard macht 2)\n",
    "    \n",
    "    return parameter1 ** parameter2"
   ]
  },
  {
   "cell_type": "markdown",
   "id": "938bfcd6",
   "metadata": {},
   "source": [
    "# Theorievragen\n",
    "\n",
    "Begin met het beantwoorden van een aantal vragen over het algoritme (gebruik vooral plaatjes bij deze uitleg).\n",
    "\n",
    "Dit is wat er nodig is voor de hoogste score volgens de beoordelingsrubriek:\n",
    "\n",
    "\"Er is uitleg gegeven over de uitwerking van het algoritme. Na het lezen van de uitleg is het duidelijk hoe het werkt. Er zijn voor en nadelen van het algoritme benoemd. Ook is het duidelijk wat parameters doen met de uitkomst van de clustering.\""
   ]
  },
  {
   "cell_type": "markdown",
   "id": "ec5dc7c8",
   "metadata": {},
   "source": [
    "Wat is clustering? Wanneer wordt het gebruikt?"
   ]
  },
  {
   "cell_type": "markdown",
   "id": "7641d8e4",
   "metadata": {},
   "source": []
  },
  {
   "cell_type": "markdown",
   "id": "90ac013e",
   "metadata": {},
   "source": [
    "Wat doet je algoritme?"
   ]
  },
  {
   "cell_type": "markdown",
   "id": "01559238",
   "metadata": {},
   "source": []
  },
  {
   "cell_type": "markdown",
   "id": "b25b1dd8",
   "metadata": {},
   "source": [
    "Hoe werkt je algoritme?"
   ]
  },
  {
   "cell_type": "markdown",
   "id": "a98da8ad",
   "metadata": {},
   "source": []
  },
  {
   "cell_type": "markdown",
   "id": "1deefeaf",
   "metadata": {},
   "source": [
    "Wat zijn de voor- en nadelen?"
   ]
  },
  {
   "cell_type": "markdown",
   "id": "647c96b3",
   "metadata": {},
   "source": []
  },
  {
   "cell_type": "markdown",
   "id": "e48115d4",
   "metadata": {},
   "source": [
    "Wat voor opties heb je voor performance evaluatie?\n",
    "\n",
    "Zie: https://scikit-learn.org/stable/modules/clustering.html#clustering-performance-evaluation"
   ]
  },
  {
   "cell_type": "markdown",
   "id": "e9a701b6",
   "metadata": {},
   "source": []
  },
  {
   "cell_type": "markdown",
   "id": "0f32f76d",
   "metadata": {},
   "source": [
    "Welke parameters kun je instellen en wat betekenen deze?"
   ]
  },
  {
   "cell_type": "markdown",
   "id": "31b5336e",
   "metadata": {},
   "source": []
  },
  {
   "cell_type": "markdown",
   "id": "0d7cce3a",
   "metadata": {},
   "source": [
    "# Deelopdracht 1/2 - Iris Dataset\n",
    "\n",
    "Begin met de makkelijkere dataset iris. Laad de dataset Iris in met de volgende commando’s:"
   ]
  },
  {
   "cell_type": "code",
   "execution_count": null,
   "id": "4ed03375",
   "metadata": {},
   "outputs": [],
   "source": [
    "from sklearn import datasets\n",
    "iris = datasets.load_iris()"
   ]
  },
  {
   "cell_type": "markdown",
   "id": "035d8a84",
   "metadata": {},
   "source": [
    "### Dataverkenning\n",
    "\n",
    "Dit is wat er nodig is voor de hoogste score volgens de beoordelingsrubriek:\n",
    "\n",
    "\"Er is een grondige verkenning gedaan incl visualisaties van de data en er zijn onderbouwde keuzes gemaakt om data kwaliteitsissues te ondervangen. De groep maakt duidelijk onderscheid in belangrijke en onbelangrijke variabelen\""
   ]
  },
  {
   "cell_type": "markdown",
   "id": "a5de29b2",
   "metadata": {},
   "source": [
    "Selecteer alleen de petal length en petal width en de Species. \n",
    "\n",
    "Geef de petal length vs de petal width weer in een scatterplot en geef per species een andere kleur. "
   ]
  },
  {
   "cell_type": "code",
   "execution_count": null,
   "id": "1cd811d1",
   "metadata": {},
   "outputs": [],
   "source": [
    "(code cell)"
   ]
  },
  {
   "cell_type": "markdown",
   "id": "bd292fcc",
   "metadata": {},
   "source": [
    "Zie je al duidelijke clusters?"
   ]
  },
  {
   "cell_type": "markdown",
   "id": "f939e1fd",
   "metadata": {},
   "source": [
    "(Markdown cell voor uitleg)"
   ]
  },
  {
   "cell_type": "markdown",
   "id": "b4dca100",
   "metadata": {},
   "source": [
    "Voer een uitgebreidere dataverkenning uit (volgens de beschrijving hierboven uit de beoordelingsrubriek). Gebruik zoveel cellen als nodig, maar liever alleen plotjes/prints maken die echt een impact op jullie modellen gaan maken (samen met uitleg tekst van wat jullie daarmee opvalt). "
   ]
  },
  {
   "cell_type": "code",
   "execution_count": null,
   "id": "5c07b368",
   "metadata": {},
   "outputs": [],
   "source": [
    "(voorbeeld code cell)"
   ]
  },
  {
   "cell_type": "markdown",
   "id": "af1884ee",
   "metadata": {},
   "source": [
    "(voorbeeld Markdown cell)"
   ]
  },
  {
   "cell_type": "markdown",
   "id": "b978eef8",
   "metadata": {},
   "source": [
    "### Algoritme Toepassen"
   ]
  },
  {
   "cell_type": "markdown",
   "id": "cb99761c",
   "metadata": {},
   "source": [
    "Pas nu het cluster algoritme toe op de variabelen petal length, petal width"
   ]
  },
  {
   "cell_type": "code",
   "execution_count": null,
   "id": "aac854f9",
   "metadata": {},
   "outputs": [],
   "source": [
    "(code cell)"
   ]
  },
  {
   "cell_type": "markdown",
   "id": "c447d872",
   "metadata": {},
   "source": [
    "Visualiseer de clusters (zowel de voorspelde/werkelijke) met een kleur en voor de werkelijke clusters gebruik een ander symbool."
   ]
  },
  {
   "cell_type": "code",
   "execution_count": null,
   "id": "8637bfe5",
   "metadata": {},
   "outputs": [],
   "source": [
    "(code cell)"
   ]
  },
  {
   "cell_type": "markdown",
   "id": "fe9ce57b",
   "metadata": {},
   "source": [
    "Vergelijk de voorspellende clusters met de werkelijke clusters (Species) in een confusion matrix."
   ]
  },
  {
   "cell_type": "code",
   "execution_count": null,
   "id": "86974f22",
   "metadata": {},
   "outputs": [],
   "source": [
    "(code cell)"
   ]
  },
  {
   "cell_type": "markdown",
   "id": "c2c1cb70",
   "metadata": {},
   "source": [
    "Wat valt op als naar de visualisatie en tabel wordt gekeken?"
   ]
  },
  {
   "cell_type": "markdown",
   "id": "5619ffad",
   "metadata": {},
   "source": [
    "(Markdown cell voor uitleg)"
   ]
  },
  {
   "cell_type": "markdown",
   "id": "a8884f90",
   "metadata": {},
   "source": [
    "Wat is de invloed van de instelbare parameters op de clusters?"
   ]
  },
  {
   "cell_type": "markdown",
   "id": "20278542",
   "metadata": {},
   "source": [
    "(Markdown cell voor uitleg)"
   ]
  },
  {
   "cell_type": "markdown",
   "id": "8123c6c0",
   "metadata": {},
   "source": [
    "Creëer een model waarin te veel en te weinig clusters zichtbaar zijn (of leg uit waarom dit niet kan)."
   ]
  },
  {
   "cell_type": "code",
   "execution_count": null,
   "id": "c9d880e1",
   "metadata": {},
   "outputs": [],
   "source": [
    "(code cell voor te veel clusters)"
   ]
  },
  {
   "cell_type": "code",
   "execution_count": null,
   "id": "879b7edd",
   "metadata": {},
   "outputs": [],
   "source": [
    "(code cell voor te weinig clusters)"
   ]
  },
  {
   "cell_type": "markdown",
   "id": "491e023c",
   "metadata": {},
   "source": [
    "(Markdown cell voor uitleg)"
   ]
  },
  {
   "cell_type": "markdown",
   "id": "9a5d8f3b",
   "metadata": {},
   "source": [
    "# Deelopdracht 2/2 - Keuze uit 2 datasets\n",
    "\n",
    "Laad nu een tweede dataset in, keuze uit:\n",
    "\n",
    "1. https://www.kaggle.com/vjchoudhary7/customer-segmentation-tutorial-in-python\n",
    "2. https://www.kaggle.com/binovi/wholesale-customers-data-set "
   ]
  },
  {
   "cell_type": "markdown",
   "id": "3faa3e0a",
   "metadata": {},
   "source": [
    "### Dataverkenning\n",
    "\n",
    "Dit is wat er nodig is voor de hoogste score volgens de beoordelingsrubriek:\n",
    "\n",
    "\"Er is een grondige verkenning gedaan incl visualisaties van de data en er zijn onderbouwde keuzes gemaakt om data kwaliteitsissues te ondervangen. De groep maakt duidelijk onderscheid in belangrijke en onbelangrijke variabelen\""
   ]
  },
  {
   "cell_type": "markdown",
   "id": "366bcddc",
   "metadata": {},
   "source": [
    "Inspecteer en visualiseer de dataset."
   ]
  },
  {
   "cell_type": "code",
   "execution_count": null,
   "id": "eafd45c8",
   "metadata": {},
   "outputs": [],
   "source": [
    "(code cell)"
   ]
  },
  {
   "cell_type": "markdown",
   "id": "3c0219ad",
   "metadata": {},
   "source": [
    "Wat valt je op?"
   ]
  },
  {
   "cell_type": "markdown",
   "id": "cfb94c77",
   "metadata": {},
   "source": [
    "(Markdown cell voor uitleg)"
   ]
  },
  {
   "cell_type": "markdown",
   "id": "ebfac01c",
   "metadata": {},
   "source": [
    "Pas data cleaning toe (outliers en missende waarden). Let je proces uit in de commentaar."
   ]
  },
  {
   "cell_type": "code",
   "execution_count": null,
   "id": "6604b49f",
   "metadata": {},
   "outputs": [],
   "source": [
    "(code cell)"
   ]
  },
  {
   "cell_type": "markdown",
   "id": "396e0c37",
   "metadata": {},
   "source": [
    "Voer een uitgebreidere dataverkenning uit (volgens de beschrijving hierboven uit de beoordelingsrubriek). Gebruik zoveel cellen als nodig, maar liever alleen plotjes/prints maken die echt een impact op jullie modellen gaan maken (samen met uitleg tekst van wat jullie daarmee opvalt). "
   ]
  },
  {
   "cell_type": "code",
   "execution_count": null,
   "id": "beadc6c0",
   "metadata": {},
   "outputs": [],
   "source": [
    "(voorbeeld code cell)"
   ]
  },
  {
   "cell_type": "markdown",
   "id": "ed661481",
   "metadata": {},
   "source": [
    "(voorbeeld Markdown cell)"
   ]
  },
  {
   "cell_type": "markdown",
   "id": "3767039c",
   "metadata": {},
   "source": [
    "### Algoritme Toepassen\n",
    "\n",
    "Dit is wat er nodig is voor de hoogste score volgens de beoordelingsrubriek:\n",
    "\n",
    "(onder onderwerp Clustering): \n",
    "\"Het gekozen cluster model is correct uitgevoerd in python en is werkend. Er is beschreven hoeveel clusters er gevonden zijn en er wordt benoemd wat hun eigenschappen zijn (interpretatie). De clusters zijn gevisualiseerd. Het model is getuned; er is nagedacht over de parameters en er is een elbow plot gemaakt.\"\n",
    "\n",
    "(onder onderwerp Aantal Variabelen Clustering):\n",
    "\"De groep heeft aandacht besteed aan het bepalen van het aantal variabelen. De onderbouwing van het aantal variabelen is logisch. De groep laat zien wat verandering van het aantal variabelen doet met de uitkomst. Er is PCA uitgevoerd om het aantal variabelen te reduceren.\""
   ]
  },
  {
   "cell_type": "markdown",
   "id": "29342b84",
   "metadata": {},
   "source": [
    "Pas het clustering algoritme toe op een selectie uit de beschikbare variabelen."
   ]
  },
  {
   "cell_type": "code",
   "execution_count": null,
   "id": "25f0f56f",
   "metadata": {},
   "outputs": [],
   "source": [
    "(code cell)"
   ]
  },
  {
   "cell_type": "markdown",
   "id": "b8701373",
   "metadata": {},
   "source": [
    "Welke variabelen kies je en waarom?"
   ]
  },
  {
   "cell_type": "markdown",
   "id": "83eb0000",
   "metadata": {},
   "source": [
    "(Markdown cell voor uitleg)"
   ]
  },
  {
   "cell_type": "markdown",
   "id": "3b5ebd55",
   "metadata": {},
   "source": [
    "Hoeveel clusters vind je? Kan je de clusters interpreteren (bijv een bepaald klantprofiel)?"
   ]
  },
  {
   "cell_type": "markdown",
   "id": "9050c37b",
   "metadata": {},
   "source": [
    "(Markdown cell voor uitleg)"
   ]
  },
  {
   "cell_type": "markdown",
   "id": "554035a8",
   "metadata": {},
   "source": [
    "Tune je model (vind en geef uitleg over de juiste waardes voor de instelbare parameters)."
   ]
  },
  {
   "cell_type": "code",
   "execution_count": null,
   "id": "b5ac3b3b",
   "metadata": {},
   "outputs": [],
   "source": [
    "(code cell)"
   ]
  },
  {
   "cell_type": "markdown",
   "id": "fc3756aa",
   "metadata": {},
   "source": [
    "(Markdown cell voor uitleg)"
   ]
  },
  {
   "cell_type": "markdown",
   "id": "f66f3236",
   "metadata": {},
   "source": [
    "Maak een elleboog plot voor een van je hyperparameters en leg uit hoe je het plot kan gebruiken."
   ]
  },
  {
   "cell_type": "code",
   "execution_count": null,
   "id": "79c95913",
   "metadata": {},
   "outputs": [],
   "source": [
    "(code cell)"
   ]
  },
  {
   "cell_type": "markdown",
   "id": "4b7050cd",
   "metadata": {},
   "source": [
    "(Markdown cell voor uitleg)"
   ]
  },
  {
   "cell_type": "markdown",
   "id": "8c7ef347",
   "metadata": {},
   "source": [
    "Pas PCA (Principal Component Analyse) toe om het aantal variabelen kleiner te maken. Leg je resultaten uit. "
   ]
  },
  {
   "cell_type": "code",
   "execution_count": null,
   "id": "624e00f9",
   "metadata": {},
   "outputs": [],
   "source": [
    "(code cell)"
   ]
  },
  {
   "cell_type": "markdown",
   "id": "dbafb3ff",
   "metadata": {},
   "source": [
    "(Markdown cell voor uitleg)"
   ]
  }
 ],
 "metadata": {
  "kernelspec": {
   "display_name": "Python 3 (ipykernel)",
   "language": "python",
   "name": "python3"
  },
  "language_info": {
   "codemirror_mode": {
    "name": "ipython",
    "version": 3
   },
   "file_extension": ".py",
   "mimetype": "text/x-python",
   "name": "python",
   "nbconvert_exporter": "python",
   "pygments_lexer": "ipython3",
   "version": "3.9.7"
  }
 },
 "nbformat": 4,
 "nbformat_minor": 5
}
