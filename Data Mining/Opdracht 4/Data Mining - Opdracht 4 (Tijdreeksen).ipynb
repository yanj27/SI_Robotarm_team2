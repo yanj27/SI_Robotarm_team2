{
 "cells": [
  {
   "cell_type": "markdown",
   "id": "cc38695d",
   "metadata": {},
   "source": [
    "# Inleiding\n",
    "\n",
    "Voor deze opdracht gaan jullie zelf op zoek naar je eigen dataset. De dataset bevat in ieder geval een kolom met een timestamp (een datum of een tijdstip) met gelijke stapgrootte (uurlijkse/dagelijkse/jaarlijkse data). Daarnaast komt deze tijdaanduiding minstens 36x terug, dus bij het gebruik van maanden minstens 36 maanden. Liever heb je een dataset die groot genoeg is om de train/test splitsing logisch te maken. Denk aan een seizoenseffect dat pas eind van elk jaar gebeurt: dan zou je je testset niet de laatste paar maanden van dat jaar zijn, omdat het zo anders van je trainset zou zijn. \n",
    "\n",
    "Let op: In tegenstelling tot de eerste opdracht, voor deze en de resterende 1 opdracht worden jullie peer reviews alleen beoordeeld op een ja of nee basis. \n",
    "\n",
    "Zoals geschreven in de vakbeschrijving:\n",
    "\n",
    "\"Het niet op tijd of lui maken van een individuele peer review resulteert in een reductie van 0,5 punt voor het cijfer van de bijhorende opdracht van de reviewer.\"\n",
    "\n",
    "Gezien dat jullie peer reviews zijn sowieso kwalitatief beoordeeld voor Opdracht 1, is deze halfpunt reductie alleen voor Opdrachten 2 t/m 4 geldig. "
   ]
  },
  {
   "cell_type": "markdown",
   "id": "1a0cc327",
   "metadata": {},
   "source": [
    "### Algemene Coderen Conventies\n",
    "\n",
    "De volgorde van het python script is belangrijk. Zo zorg je bijvoorbeeld altijd dat eerst de benodigde packages worden ingeladen geïnstalleerd en geïmporteerd). Verder is het goed om van tevoren jouw working directory te controleren. \n",
    "\n",
    "Schrijf het python script daarom met een duidelijke indeling van met verschillende stappen. Bij elke stap dient toelichting worden gegeven:\n",
    "1. Wat is het doel van deze stap?\n",
    "2. Wat is de input van deze stap?\n",
    "3. Wat is de output van deze stap en waar heb je deze output hierna nog nodig?\n",
    "\n",
    "Hieronder voorbeelden van de verschillende punten hierboven."
   ]
  },
  {
   "cell_type": "code",
   "execution_count": null,
   "id": "05e4a7ed",
   "metadata": {},
   "outputs": [],
   "source": [
    "### Voorbeeld: Standaard Imports\n",
    "import numpy as np\n",
    "import matplotlib.pyplot as plt\n",
    "\n",
    "\n",
    "### Controleer Working Directory\n",
    "import os\n",
    "print(os.getcwd())\n",
    "\n",
    "# Pas je working directory aan indien gewenst\n",
    "path = 'C:\\\\Users\\\\rburrus\\\\Desktop\\\\Jupyter Notebook' # zet hier wat voor jou goed is\n",
    "os.chdir(path)\n",
    "print(os.getcwd())\n",
    "\n",
    "\n",
    "### Voorbeeld: Functie met Beschrijving Schrijven\n",
    "\n",
    "def voorbeeld_functie(parameter1, parameter2 = 2):\n",
    "    # Doel: dit functie maakt een bepaalde berekening\n",
    "    # In: parameter1 (float), parameter2 (integer)\n",
    "    # Uit: parameter1 macht parameter2 (standaard macht 2)\n",
    "    \n",
    "    return parameter1 ** parameter2"
   ]
  },
  {
   "cell_type": "markdown",
   "id": "938bfcd6",
   "metadata": {},
   "source": [
    "# Theorievragen\n",
    "\n",
    "Beantwoord voordat je met de dataset aan de slag gaan, eerst de volgende vragen:\n",
    "\n",
    "Dit is wat er nodig is voor de hoogste score volgens de beoordelingsrubriek:\n",
    "\n",
    "\"Heeft de theorie vragen beantwoord en de uitleg is begrijpelijk en er worden voorbeelden bij gehaald. De uitleg wordt ondersteund door visualisaties. Ook wordt autocorrelatie beschreven bij de uiteindelijke modellen.\""
   ]
  },
  {
   "cell_type": "markdown",
   "id": "ec5dc7c8",
   "metadata": {},
   "source": [
    "Wat is autocorrelatie?"
   ]
  },
  {
   "cell_type": "markdown",
   "id": "7641d8e4",
   "metadata": {},
   "source": []
  },
  {
   "cell_type": "markdown",
   "id": "90ac013e",
   "metadata": {},
   "source": [
    "Let het verschil uit tussen een AR model en een MA model."
   ]
  },
  {
   "cell_type": "markdown",
   "id": "01559238",
   "metadata": {},
   "source": []
  },
  {
   "cell_type": "markdown",
   "id": "b25b1dd8",
   "metadata": {},
   "source": [
    "Hoe werkt een ARIMA model om deze twee methoden te combineren en wat doet het \"I\" element?"
   ]
  },
  {
   "cell_type": "markdown",
   "id": "a98da8ad",
   "metadata": {},
   "source": []
  },
  {
   "cell_type": "markdown",
   "id": "1deefeaf",
   "metadata": {},
   "source": [
    "Geef een korte uitleg over de techniek Exponential Smoothing."
   ]
  },
  {
   "cell_type": "markdown",
   "id": "647c96b3",
   "metadata": {},
   "source": []
  },
  {
   "cell_type": "markdown",
   "id": "0d7cce3a",
   "metadata": {},
   "source": [
    "# Deelopdracht 1/3 - Dataverkenning\n",
    "\n",
    "Splits de data op in een train en test dataset. De traindataset mag niet te klein zijn. Doe de splitsing op chronologische volgorde. Bij bijvoorbeeld januari tot en met december, zouden november en december de testdataset zijn (je kan alleen vooruit in de tijd).\n",
    "\n",
    "Dit is wat er nodig is voor de hoogste score volgens de beoordelingsrubriek:\n",
    "\n",
    "\"Heeft verkennende plots gemaakt. Heeft datatype van tijdsvariabele correct behandeld en gekeken of de tijdreeks geen gaten heeft. Daarnaast is er een goede analyse van trend, seizoenspatronen en autocorrelatie gemaakt. De gevonden patronen worden bediscussieerd en er worden mogelijke verklaringen/interpretaties voor gegeven.\""
   ]
  },
  {
   "cell_type": "code",
   "execution_count": null,
   "id": "4ed03375",
   "metadata": {},
   "outputs": [],
   "source": [
    "(code cell)"
   ]
  },
  {
   "cell_type": "markdown",
   "id": "a5de29b2",
   "metadata": {},
   "source": [
    "Voer een uitgebreidere dataverkenning uit (volgens de beschrijving hierboven uit de beoordelingsrubriek) op jullie gekozen dataset. Gebruik zoveel cellen als nodig, maar liever alleen plotjes/prints maken die echt een impact op jullie modellen gaan maken (samen met uitleg tekst van wat jullie daarmee opvalt).  "
   ]
  },
  {
   "cell_type": "code",
   "execution_count": null,
   "id": "1cd811d1",
   "metadata": {},
   "outputs": [],
   "source": [
    "(code cell)"
   ]
  },
  {
   "cell_type": "markdown",
   "id": "bd292fcc",
   "metadata": {},
   "source": [
    "Is er een trend zichtbaar in de data? Wat walt je hier op?"
   ]
  },
  {
   "cell_type": "markdown",
   "id": "f939e1fd",
   "metadata": {},
   "source": [
    "(Markdown cell voor uitleg)"
   ]
  },
  {
   "cell_type": "markdown",
   "id": "b4dca100",
   "metadata": {},
   "source": [
    "Is er een seizoenspatroon zichtbaar in de data? Wat valt je hier op?"
   ]
  },
  {
   "cell_type": "markdown",
   "id": "87c7d5d2",
   "metadata": {},
   "source": [
    "(Markdown cell voor uitleg)"
   ]
  },
  {
   "cell_type": "markdown",
   "id": "af1884ee",
   "metadata": {},
   "source": [
    "Zit er autocorrelatie in de data? Wat valt je hier op?"
   ]
  },
  {
   "cell_type": "markdown",
   "id": "788ecffa",
   "metadata": {},
   "source": [
    "(Markdown cell voor uitleg)"
   ]
  },
  {
   "cell_type": "markdown",
   "id": "9a5d8f3b",
   "metadata": {},
   "source": [
    "# Deelopdracht 2/3 - Prophet Package\n",
    "\n",
    "Maak een voorspelling met het Prophet package.\n",
    "\n",
    "Gebruik ‘conda install -c conda-forge prophet’ \n",
    "\n",
    "Check even de installatie instructies op deze pagina: https://facebook.github.io/prophet/docs/quick_start.html\n",
    "\n",
    "Dit is wat er nodig is voor de hoogste score volgens de beoordelingsrubriek:\n",
    "\n",
    "\"De voorspelling met het Prophet package is correct uitgevoerd en uitgebreid beschreven. De prestatiemetrics worden op train en test berekend. Er wordt geëxperimenteerd met verschillende instellingen.\""
   ]
  },
  {
   "cell_type": "markdown",
   "id": "366bcddc",
   "metadata": {},
   "source": [
    "Visualiseer de voorspelling."
   ]
  },
  {
   "cell_type": "code",
   "execution_count": null,
   "id": "eafd45c8",
   "metadata": {},
   "outputs": [],
   "source": [
    "(code cell)"
   ]
  },
  {
   "cell_type": "markdown",
   "id": "3c0219ad",
   "metadata": {},
   "source": [
    "Wat valt je op?"
   ]
  },
  {
   "cell_type": "markdown",
   "id": "cfb94c77",
   "metadata": {},
   "source": [
    "(Markdown cell voor uitleg)"
   ]
  },
  {
   "cell_type": "markdown",
   "id": "ebfac01c",
   "metadata": {},
   "source": [
    "Bereken een kwaliteitsmaat (bijvoorbeeld RMSE of MAE) op de train- en testdataset."
   ]
  },
  {
   "cell_type": "code",
   "execution_count": null,
   "id": "6604b49f",
   "metadata": {},
   "outputs": [],
   "source": [
    "(code cell)"
   ]
  },
  {
   "cell_type": "markdown",
   "id": "396e0c37",
   "metadata": {},
   "source": [
    "Wat valt je hier op?"
   ]
  },
  {
   "cell_type": "markdown",
   "id": "ed661481",
   "metadata": {},
   "source": [
    "(Markdown cell voor uitleg)"
   ]
  },
  {
   "cell_type": "markdown",
   "id": "3767039c",
   "metadata": {},
   "source": [
    "# Deelopdracht 3/3 - Gekozen Model\n",
    "\n",
    "Maak een voorspelling met het statsmodels package op de traindataset. Kies een optie uit de volgende opties:\n",
    "\n",
    "1. AR model\n",
    "2. MA model\n",
    "3. ARIMA\n",
    "4. Exponential Smoothing\n",
    "\n",
    "Zie deze link voor meer informatie: https://www.statsmodels.org/stable/user-guide.html#time-series-analysis\n",
    "\n",
    "Dit is wat er nodig is voor de hoogste score volgens de beoordelingsrubriek:\n",
    "\n",
    "\"De voorspelling met het statsmodels package is correct uitgevoerd en uitgebreid beschreven. De prestatiemetrics worden op train en test berekend. Er wordt geëxperimenteerd met verschillende instellingen en de verschillen met de resultaten uit het prophet package worden bediscussieerd.\""
   ]
  },
  {
   "cell_type": "markdown",
   "id": "29342b84",
   "metadata": {},
   "source": [
    "Visualiseer de voorspelling."
   ]
  },
  {
   "cell_type": "code",
   "execution_count": null,
   "id": "25f0f56f",
   "metadata": {},
   "outputs": [],
   "source": [
    "(code cell)"
   ]
  },
  {
   "cell_type": "markdown",
   "id": "b8701373",
   "metadata": {},
   "source": [
    "Wat valt je hier op?"
   ]
  },
  {
   "cell_type": "markdown",
   "id": "83eb0000",
   "metadata": {},
   "source": [
    "(Markdown cell voor uitleg)"
   ]
  },
  {
   "cell_type": "markdown",
   "id": "3b5ebd55",
   "metadata": {},
   "source": [
    "Bereken dezelfde kwaliteitsmaat (bijvoorbeeld RMSE of MAE) als bij de Prophet package hierboven op de train- en testdataset."
   ]
  },
  {
   "cell_type": "code",
   "execution_count": null,
   "id": "5d7f3985",
   "metadata": {},
   "outputs": [],
   "source": [
    "(code cell)"
   ]
  },
  {
   "cell_type": "markdown",
   "id": "9050c37b",
   "metadata": {},
   "source": [
    "(Markdown cell voor uitleg)"
   ]
  },
  {
   "cell_type": "markdown",
   "id": "554035a8",
   "metadata": {},
   "source": [
    "Vergelijk de voorspellingen (dus van de Prophet package en hier met jullie gekozen model). Welke van de twee komt het meest overeen met de testdataset?"
   ]
  },
  {
   "cell_type": "code",
   "execution_count": null,
   "id": "b5ac3b3b",
   "metadata": {},
   "outputs": [],
   "source": [
    "(code cell)"
   ]
  },
  {
   "cell_type": "markdown",
   "id": "fc3756aa",
   "metadata": {},
   "source": [
    "(Markdown cell voor uitleg)"
   ]
  },
  {
   "cell_type": "markdown",
   "id": "f66f3236",
   "metadata": {},
   "source": [
    "Voor welke van de twee modellen zou je kiezen als je echt een voorspelling zou doen? Mochten beiden niet goed werken, wat voor ander model zou je dan proberen?"
   ]
  },
  {
   "cell_type": "markdown",
   "id": "4b7050cd",
   "metadata": {},
   "source": [
    "(Markdown cell voor uitleg)"
   ]
  },
  {
   "cell_type": "markdown",
   "id": "8c7ef347",
   "metadata": {},
   "source": [
    "Wat kan je zeggen over autocorrelatie in je definitieve model? "
   ]
  },
  {
   "cell_type": "code",
   "execution_count": null,
   "id": "624e00f9",
   "metadata": {},
   "outputs": [],
   "source": [
    "(code cell)"
   ]
  },
  {
   "cell_type": "markdown",
   "id": "dbafb3ff",
   "metadata": {},
   "source": [
    "(Markdown cell voor uitleg)"
   ]
  }
 ],
 "metadata": {
  "kernelspec": {
   "display_name": "Python 3 (ipykernel)",
   "language": "python",
   "name": "python3"
  },
  "language_info": {
   "codemirror_mode": {
    "name": "ipython",
    "version": 3
   },
   "file_extension": ".py",
   "mimetype": "text/x-python",
   "name": "python",
   "nbconvert_exporter": "python",
   "pygments_lexer": "ipython3",
   "version": "3.9.7"
  }
 },
 "nbformat": 4,
 "nbformat_minor": 5
}
