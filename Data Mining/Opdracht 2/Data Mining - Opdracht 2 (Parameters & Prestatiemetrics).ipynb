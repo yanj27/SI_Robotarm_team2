{
 "cells": [
  {
   "cell_type": "markdown",
   "id": "cc38695d",
   "metadata": {},
   "source": [
    "# Inleiding\n",
    "\n",
    "In deze opdracht gaan jullie je scripts van vorige week verbeteren en uitbreiden. Dat gezegd, hebben we liever dat je ingeleverd Jupyter Notebook bestanden niet super lang worden, dus in plaats van het toevoegen van nieuwen cellen in jullie bestanden van Opdracht 1, gebruik alsjeblieft deze sjabloon als basis. Dan, in de relevante plekken, alleen de cellen van de vorige opdracht die echt voor deze opdracht nodig zijn kopie/plakken. Bijvoorbeeld, hoewel dataverkenning toch belangrijk is, hebben jullie hopelijk al genoeg daarvan gedaan, en dus is het niet nodig om die code en plotjes hierbij ook te hebben. \n",
    "\n",
    "Hier is een lijst van de elementen die je waarschijnlijk willen overdragen:\n",
    "1. het inlezen/splitsen van jouw datasets\n",
    "2. de definitieve versie van jouw regressie/classificatie modellen (niet de voorbereiding stappen)\n",
    "3. blijf dezelfde twee gekozen algoritmes gebruiken\n",
    "\n",
    "Let op: In tegenstelling tot de eerste opdracht, voor deze en de resterende 2 opdrachten worden jullie peer reviews alleen beoordeeld op een ja of nee basis. \n",
    "\n",
    "Zoals geschreven in de vakbeschrijving:\n",
    "\n",
    "\"Het niet op tijd of lui maken van een individuele peer review resulteert in een reductie van 0,5 punt voor het cijfer van de bijhorende opdracht van de reviewer.\"\n",
    "\n",
    "Gezien dat jullie peer reviews zijn sowieso kwalitatief beoordeeld voor Opdracht 1, is deze halfpunt reductie alleen voor Opdrachten 2 t/m 4 geldig. "
   ]
  },
  {
   "cell_type": "markdown",
   "id": "1a0cc327",
   "metadata": {},
   "source": [
    "### Algemene Coderen Conventies\n",
    "\n",
    "De volgorde van het python script is belangrijk. Zo zorg je bijvoorbeeld altijd dat eerst de benodigde packages worden ingeladen geïnstalleerd en geïmporteerd). Verder is het goed om van tevoren jouw working directory te controleren. \n",
    "\n",
    "Schrijf het python script daarom met een duidelijke indeling van met verschillende stappen. Bij elke stap dient toelichting worden gegeven:\n",
    "1. Wat is het doel van deze stap?\n",
    "2. Wat is de input van deze stap?\n",
    "3. Wat is de output van deze stap en waar heb je deze output hierna nog nodig?\n",
    "\n",
    "Hieronder voorbeelden van de verschillende punten hierboven."
   ]
  },
  {
   "cell_type": "code",
   "execution_count": null,
   "id": "05e4a7ed",
   "metadata": {},
   "outputs": [],
   "source": [
    "### Voorbeeld: Standaard Imports\n",
    "import numpy as np\n",
    "import matplotlib.pyplot as plt\n",
    "\n",
    "\n",
    "### Controleer Working Directory\n",
    "import os\n",
    "print(os.getcwd())\n",
    "\n",
    "# Pas je working directory aan indien gewenst\n",
    "path = 'C:\\\\Users\\\\rburrus\\\\Desktop\\\\Jupyter Notebook' # zet hier wat voor jou goed is\n",
    "os.chdir(path)\n",
    "print(os.getcwd())\n",
    "\n",
    "\n",
    "### Voorbeeld: Functie met Beschrijving Schrijven\n",
    "\n",
    "def voorbeeld_functie(parameter1, parameter2 = 2):\n",
    "    # Doel: dit functie maakt een bepaalde berekening\n",
    "    # In: parameter1 (float), parameter2 (integer)\n",
    "    # Uit: parameter1 macht parameter2 (standaard macht 2)\n",
    "    \n",
    "    return parameter1 ** parameter2"
   ]
  },
  {
   "cell_type": "code",
   "execution_count": 1,
   "id": "11bb4714",
   "metadata": {},
   "outputs": [],
   "source": [
    "# Imports \n",
    "import pandas as pd\n",
    "import matplotlib.pyplot as plt\n",
    "import matplotlib.cm as cm\n",
    "import numpy as np\n",
    "import seaborn as sns\n",
    "from sklearn.linear_model import LinearRegression\n",
    "from sklearn.ensemble import RandomForestRegressor\n",
    "from sklearn.metrics import mean_squared_error, r2_score\n",
    "from sklearn.tree import plot_tree\n"
   ]
  },
  {
   "cell_type": "markdown",
   "id": "0d7cce3a",
   "metadata": {},
   "source": [
    "# Deelopdracht 1/2 - Regressie Model (Huizenprijzen)\n",
    "\n",
    "Let op: de bedoeling is dat jullie hetzelfde regressie algoritme van Opdracht 1 blijven gebruiken (dus niet een nieuwe). "
   ]
  },
  {
   "cell_type": "markdown",
   "id": "fecd4a32",
   "metadata": {},
   "source": [
    "### Theorievragen\n",
    "\n",
    "Kies twee verschillende prestatiemetrics voor jouw gekozen regressie algoritme.\n",
    "Begin met het beantwoorden van een aantal vragen over deze prestatiemetrics."
   ]
  },
  {
   "cell_type": "markdown",
   "id": "0b77f09f",
   "metadata": {},
   "source": [
    "1. Waarom heb je deze prestatiemetrics gekozen?"
   ]
  },
  {
   "cell_type": "markdown",
   "id": "1c5ffa10",
   "metadata": {},
   "source": []
  },
  {
   "cell_type": "markdown",
   "id": "c43f813c",
   "metadata": {},
   "source": [
    "2. Wat zijn de voor- en nadelen van de eerste prestatiemetric?"
   ]
  },
  {
   "cell_type": "markdown",
   "id": "fd722bc5",
   "metadata": {},
   "source": []
  },
  {
   "cell_type": "markdown",
   "id": "13dfc670",
   "metadata": {},
   "source": [
    "3. Wat zijn de voor- en nadelen van de tweede prestatiemetric?"
   ]
  },
  {
   "cell_type": "markdown",
   "id": "a2557f63",
   "metadata": {},
   "source": []
  },
  {
   "cell_type": "markdown",
   "id": "8cc21e20",
   "metadata": {},
   "source": [
    "#### Beantwoord nu een aantal vragen over hyperparameters voor jouw gekozen regressie algoritme."
   ]
  },
  {
   "cell_type": "markdown",
   "id": "f3bcbb10",
   "metadata": {},
   "source": [
    "4. Welke hyperparameters in je model kun je instellen (aan welke knoppen kan je draaien)? "
   ]
  },
  {
   "cell_type": "markdown",
   "id": "11a336a8",
   "metadata": {},
   "source": []
  },
  {
   "cell_type": "markdown",
   "id": "c8be2617",
   "metadata": {},
   "source": [
    "5. Leg uit wat een verandering van de waarde met het model doet."
   ]
  },
  {
   "cell_type": "markdown",
   "id": "62581261",
   "metadata": {},
   "source": []
  },
  {
   "cell_type": "markdown",
   "id": "9ed4fa21",
   "metadata": {},
   "source": [
    "6. Wat zouden logische waarden kunnen zijn?"
   ]
  },
  {
   "cell_type": "markdown",
   "id": "ce8dd875",
   "metadata": {},
   "source": []
  },
  {
   "cell_type": "markdown",
   "id": "bc8fa28f",
   "metadata": {},
   "source": [
    "## Code\n",
    "\n",
    "Zoals bij Opdracht 1, voor het regressie model kunnen jullie deze dataset gebruiken:\n",
    "\n",
    "https://www.kaggle.com/c/house-prices-advanced-regression-techniques\n",
    "\n",
    "Als je het niet al hebben gedaan, splits je dataset in een train en een test (validatie) set."
   ]
  },
  {
   "cell_type": "markdown",
   "id": "e2194f4c",
   "metadata": {},
   "source": [
    "### Prestatiemetrics\n",
    "\n",
    "Bereken 2 prestatiemetrics op de traindata en op de testdata. Zijn er grote verschillen? Zo ja, hoe zou dat kunnen komen?\n",
    "\n",
    "Dit is wat er nodig is voor de hoogste score volgens de beoordelingsrubriek:\n",
    "\n",
    "\"De prestatiemetrics van de modellen zijn berekend. Er wordt toegelicht wat waarde van de metric betekend. Voordelen en nadelen van de gekozen metrics worden benoemd.\"\n",
    "\n",
    "Let op: Je kan deze vraag (en soortgelijke vragen hieronder) beantwoorden via zowel aanvullende Markdown cellen (voor tekstuele antwoorden) als Code cellen (voor jouw code zelf, met commentaar erbij). Gebruik gewoon wat je het best helpt om de vraag te beantwoorden. "
   ]
  },
  {
   "cell_type": "markdown",
   "id": "a74452b9",
   "metadata": {},
   "source": [
    "(voorbeeld Markdown cell)"
   ]
  },
  {
   "cell_type": "code",
   "execution_count": null,
   "id": "2fae2164",
   "metadata": {},
   "outputs": [],
   "source": [
    "(voorbeeld Code cell)"
   ]
  },
  {
   "cell_type": "markdown",
   "id": "2a67ceb3",
   "metadata": {},
   "source": [
    "### K-Fold Cross Validatie\n",
    "\n",
    "Pas k-fold cross validation toe op de traindataset. Zie ook: https://scikit-learn.org/stable/modules/cross_validation.html"
   ]
  },
  {
   "cell_type": "code",
   "execution_count": null,
   "id": "968f4c74",
   "metadata": {},
   "outputs": [],
   "source": [
    "(beantwoord als Code)"
   ]
  },
  {
   "cell_type": "markdown",
   "id": "3c2730d5",
   "metadata": {},
   "source": [
    "Welke waarde van k kies je en waarom?"
   ]
  },
  {
   "cell_type": "markdown",
   "id": "2935a40d",
   "metadata": {},
   "source": [
    "(beantwoord als Markdown)"
   ]
  },
  {
   "cell_type": "markdown",
   "id": "89e5940d",
   "metadata": {},
   "source": [
    "Lijkt het resultaat meer op de train of de testset?"
   ]
  },
  {
   "cell_type": "markdown",
   "id": "e5c2a5fa",
   "metadata": {},
   "source": [
    "(beantwoord als Markdown)"
   ]
  },
  {
   "cell_type": "markdown",
   "id": "25747e8a",
   "metadata": {},
   "source": [
    "### Underfit/Overfit\n",
    "\n",
    "Maak een underfit model (slechte prestaties op train en test) en een overfit model (veel betere prestaties op train vergeleken met test). Leg uit (via tekst en een of meer visualisaties) hoe je dit kan zien.\n",
    "\n",
    "Let op: je maakt hier expres slechte modellen om te zien hoe veel controle over het presteren van het model je kan krijgen en te leren wat de verschillende hyperparameters kunnen opleveren. \n",
    "\n",
    "Dit is wat er nodig is voor de hoogste score volgens de beoordelingsrubriek:\n",
    "\n",
    "\"Het is gelukt om een underfit- een overfitmodel te maken en er wordt duidelijk uitgelegd waaraan je dat kan zien. De rol van de train en testset wordt duidelijk uitgelegd. De resultaten worden onderbouwd met goede vizualisaties.\""
   ]
  },
  {
   "cell_type": "code",
   "execution_count": null,
   "id": "596e4e3a",
   "metadata": {},
   "outputs": [],
   "source": [
    "(beantwoord als code)"
   ]
  },
  {
   "cell_type": "markdown",
   "id": "aa0ceed4",
   "metadata": {},
   "source": [
    "(beantwoord als Markdown)"
   ]
  },
  {
   "cell_type": "markdown",
   "id": "12752977",
   "metadata": {},
   "source": [
    "### Gridsearch\n",
    "\n",
    "Pas GridSearchCV() toe op je model in scikit-learn, hiermee kan je de beste waarde voor je hyperparameters vinden. Let op: voor maximale punten moet je ook K-Fold Cross Validatie tegelijk gebruiken (wss in een pipeline...zie DataCamp).\n",
    "\n",
    "Dit is wat er nodig is voor de hoogste score volgens de beoordelingsrubriek:\n",
    "\n",
    "\"Er is GridSearchCV() uitgevoerd en er wordt beargumenteerd waarom gekozen is voor bepaalde hyperparameters. Ook wordt benoemd welke hyperparameter uiteindelijk het beste lijkt te zijn en waarom, en er is besproken hoe k-foldcross validatie betrokken wordt in de GridSearchCV().\""
   ]
  },
  {
   "cell_type": "code",
   "execution_count": null,
   "id": "cd0bd71b",
   "metadata": {},
   "outputs": [],
   "source": [
    "(beantwoord als code)"
   ]
  },
  {
   "cell_type": "markdown",
   "id": "a134095f",
   "metadata": {},
   "source": [
    "(beantwoord als Markdown)"
   ]
  },
  {
   "cell_type": "markdown",
   "id": "4be5f6e4",
   "metadata": {},
   "source": [
    "### Definitief Model (Regressie)\n",
    "\n",
    "Dit is wat er nodig is voor de hoogste score volgens de beoordelingsrubriek:\n",
    "\n",
    "\"Er worden uitspraken gedaan over hoe goed de modellen werken. De onderbouwing is duidelijk en logisch. Ook is beargumenteerd waarom het model niet under- en overfit. Daarnaast komt naar voren waarom bepaalde features wel en niet in het uiteindelijke model zitten.\""
   ]
  },
  {
   "cell_type": "markdown",
   "id": "9bd2c00b",
   "metadata": {},
   "source": [
    "Test het model met de beste parameters op de testset. Hoe goed is het model?"
   ]
  },
  {
   "cell_type": "code",
   "execution_count": null,
   "id": "1d190be4",
   "metadata": {},
   "outputs": [],
   "source": [
    "(beantwoord als code)"
   ]
  },
  {
   "cell_type": "markdown",
   "id": "aa928bfd",
   "metadata": {},
   "source": [
    "(beantwoord als Markdown)"
   ]
  },
  {
   "cell_type": "markdown",
   "id": "f31906ff",
   "metadata": {},
   "source": [
    "Upload de voorspelling naar Kaggle. Is de score volgens verwachting?"
   ]
  },
  {
   "cell_type": "markdown",
   "id": "ce452f89",
   "metadata": {},
   "source": [
    "(beantwoord als Markdown)"
   ]
  },
  {
   "cell_type": "markdown",
   "id": "9a5d8f3b",
   "metadata": {},
   "source": [
    "# Deelopdracht 2/2 - Classificatie Model (Borstkanker)\n",
    "\n",
    "Let op: de bedoeling is dat jullie hetzelfde classificatie algoritme van Opdracht 1 blijven gebruiken (dus niet een nieuwe). "
   ]
  },
  {
   "cell_type": "markdown",
   "id": "624bc118",
   "metadata": {},
   "source": [
    "### Theorievragen\n",
    "\n",
    "Kies twee verschillende prestatiemetrics voor jouw gekozen classificatie algoritme.\n",
    "Begin met het beantwoorden van een aantal vragen over deze prestatiemetrics."
   ]
  },
  {
   "cell_type": "markdown",
   "id": "3faa3e0a",
   "metadata": {},
   "source": [
    "1. Waarom heb je deze prestatiemetrics gekozen?"
   ]
  },
  {
   "cell_type": "markdown",
   "id": "700d2323",
   "metadata": {},
   "source": [
    "* Confusion Matrix: met een confusion matrix krijg je een overzichtelijk plaatje van alle correct- en incorrecte voorspellingen.\n",
    "* Recall: ik wil alle patienten met borstkanker kunnen detecteren."
   ]
  },
  {
   "cell_type": "markdown",
   "id": "3c0219ad",
   "metadata": {},
   "source": [
    "2. Wat zijn de voor- en nadelen van de eerste prestatiemetric?"
   ]
  },
  {
   "cell_type": "markdown",
   "id": "cfb94c77",
   "metadata": {},
   "source": [
    "Voordelen:\n",
    "- Het geeft veel informatie, met de waardes uit de confusion matrix kun je ook de uitkomst van andere prestatiemetrics achterhalen. (Zoals Accuracy, Precision en F1 Score)\n",
    "- Je kan het importeren als package, je hoeft dus zelf niet veel code hiervoor te schrijven.\n",
    "\n",
    "Nadelen:\n",
    "- De hoeveelheid informatie kan overweldigend zijn voor iemand die niet bekend is met een confusion matrix.\n",
    "- De assen (Predicted & Actual values) kunnen soms omgedraaid zijn en dat kan tot verwarring brengen."
   ]
  },
  {
   "cell_type": "markdown",
   "id": "ebfac01c",
   "metadata": {},
   "source": [
    "3. Wat zijn de voor- en nadelen van de tweede prestatiemetric?"
   ]
  },
  {
   "cell_type": "markdown",
   "id": "a21f855c",
   "metadata": {},
   "source": [
    "Voordelen:\n",
    "- Je kan het importeren als package, je hoeft dus zelf niet veel code hiervoor te schrijven.\n",
    "- Het is 1 getal, in dit geval is het aantal correcte voorspellingen van borstkankerpatienten vergeleken met het werkelijke aantal borstkankerpatienten.\n",
    "\n",
    "Nadelen:\n",
    "- Het zegt niks over de naukeurigheid, de algoritme kan ook aangeven dat iemand borstkanker heeft terwijl diegene het niet heeft."
   ]
  },
  {
   "cell_type": "markdown",
   "id": "29342b84",
   "metadata": {},
   "source": [
    "#### Beantwoord nu een aantal vragen over hyperparameters voor jouw gekozen classificatie algoritme."
   ]
  },
  {
   "cell_type": "markdown",
   "id": "b8701373",
   "metadata": {},
   "source": [
    "4. Welke hyperparameters in je model kun je instellen (aan welke knoppen kan je draaien)? "
   ]
  },
  {
   "cell_type": "markdown",
   "id": "83eb0000",
   "metadata": {},
   "source": []
  },
  {
   "cell_type": "markdown",
   "id": "3b5ebd55",
   "metadata": {},
   "source": [
    "5. Leg uit wat een verandering van de waarde met het model doet."
   ]
  },
  {
   "cell_type": "markdown",
   "id": "9050c37b",
   "metadata": {},
   "source": []
  },
  {
   "cell_type": "markdown",
   "id": "554035a8",
   "metadata": {},
   "source": [
    "6. Wat zouden logische waarden kunnen zijn?"
   ]
  },
  {
   "cell_type": "markdown",
   "id": "fc3756aa",
   "metadata": {},
   "source": []
  },
  {
   "cell_type": "markdown",
   "id": "734fa77e",
   "metadata": {},
   "source": [
    "## Code\n",
    "\n",
    "Zoals bij Opdracht 1, voor het classificatie model kunnen jullie deze dataset gebruiken:\n",
    "\n",
    "https://www.kaggle.com/uciml/breast-cancer-wisconsin-data\n",
    "\n",
    "Als je het niet al hebben gedaan, splits je dataset in een train en een test (validatie) set."
   ]
  },
  {
   "cell_type": "markdown",
   "id": "9f64dbb5",
   "metadata": {},
   "source": [
    "### Prestatiemetrics\n",
    "\n",
    "Bereken 2 prestatiemetrics op de traindata en op de testdata. Zijn er grote verschillen? Zo ja, hoe zou dat kunnen komen?\n",
    "\n",
    "Dit is wat er nodig is voor de hoogste score volgens de beoordelingsrubriek:\n",
    "\n",
    "\"De prestatiemetrics van de modellen zijn berekend. Er wordt toegelicht wat waarde van de metric betekend. Voordelen en nadelen van de gekozen metrics worden benoemd.\"\n",
    "\n",
    "Let op: Je kan deze vraag (en soortgelijke vragen hieronder) beantwoorden via zowel aanvullende Markdown cellen (voor tekstuele antwoorden) als Code cellen (voor jouw code zelf, met commentaar erbij). Gebruik gewoon wat je het best helpt om de vraag te beantwoorden. "
   ]
  },
  {
   "cell_type": "code",
   "execution_count": 10,
   "id": "8ae93001",
   "metadata": {},
   "outputs": [],
   "source": [
    "data =pd.read_csv('data.csv', index_col= 0)\n",
    "data = data.drop(columns='Unnamed: 32')\n",
    "data['diagnosis'] = np.where(data['diagnosis'] == 'M', 1, 0)"
   ]
  },
  {
   "cell_type": "code",
   "execution_count": 11,
   "id": "5b42ac9c",
   "metadata": {},
   "outputs": [],
   "source": [
    "y = data['diagnosis'].values\n",
    "X = data[['radius_mean', 'texture_mean', 'perimeter_mean']]"
   ]
  },
  {
   "cell_type": "code",
   "execution_count": 42,
   "id": "60a0b092",
   "metadata": {},
   "outputs": [],
   "source": [
    "from sklearn.neighbors import KNeighborsClassifier\n",
    "from sklearn.metrics import confusion_matrix, ConfusionMatrixDisplay, precision_score, recall_score, f1_score\n",
    "from sklearn.model_selection import train_test_split, KFold, cross_val_score\n",
    "knn = KNeighborsClassifier(n_neighbors=5)\n",
    "knn.fit(X, y)\n",
    "X_train, X_test, y_train, y_test = train_test_split(X, y, test_size=0.2, random_state=42)"
   ]
  },
  {
   "cell_type": "markdown",
   "id": "046c35cc",
   "metadata": {},
   "source": [
    "## Confusion Matrix met Trainset:"
   ]
  },
  {
   "cell_type": "code",
   "execution_count": 43,
   "id": "c87c816d",
   "metadata": {},
   "outputs": [
    {
     "data": {
      "text/plain": [
       "<sklearn.metrics._plot.confusion_matrix.ConfusionMatrixDisplay at 0x258d726a030>"
      ]
     },
     "execution_count": 43,
     "metadata": {},
     "output_type": "execute_result"
    },
    {
     "data": {
      "image/png": "[encoded data removed]",
      "text/plain": [
       "<Figure size 640x480 with 2 Axes>"
      ]
     },
     "metadata": {},
     "output_type": "display_data"
    }
   ],
   "source": [
    "train_pred = knn.predict(X_train).astype(np.float32)\n",
    "cm = confusion_matrix(y_train, train_pred, normalize='all')\n",
    "disp = ConfusionMatrixDisplay(confusion_matrix=cm, display_labels=[\"Positive\", \"Negative\"])\n",
    "disp.plot()"
   ]
  },
  {
   "cell_type": "code",
   "execution_count": 47,
   "id": "06af4554",
   "metadata": {},
   "outputs": [
    {
     "name": "stdout",
     "output_type": "stream",
     "text": [
      "Recallscore voor trainset:    0.8462\n"
     ]
    }
   ],
   "source": [
    "recall = recall_score(y_train, train_pred)\n",
    "print(f\"Recallscore voor trainset:    {recall:.4f}\")"
   ]
  },
  {
   "cell_type": "markdown",
   "id": "ffa2b248",
   "metadata": {},
   "source": [
    "## Confusion Matrix met Testset"
   ]
  },
  {
   "cell_type": "code",
   "execution_count": 45,
   "id": "dcf82bfb",
   "metadata": {},
   "outputs": [
    {
     "data": {
      "text/plain": [
       "<sklearn.metrics._plot.confusion_matrix.ConfusionMatrixDisplay at 0x258da69b830>"
      ]
     },
     "execution_count": 45,
     "metadata": {},
     "output_type": "execute_result"
    },
    {
     "data": {
      "image/png": "[encoded data removed]",
      "text/plain": [
       "<Figure size 640x480 with 2 Axes>"
      ]
     },
     "metadata": {},
     "output_type": "display_data"
    }
   ],
   "source": [
    "test_pred = knn.predict(X_test).astype(np.float32)\n",
    "cm = confusion_matrix(y_test, test_pred, normalize='all')\n",
    "disp = ConfusionMatrixDisplay(confusion_matrix=cm, display_labels=[\"Positive\", \"Negative\"])\n",
    "disp.plot()"
   ]
  },
  {
   "cell_type": "code",
   "execution_count": 46,
   "id": "e65da027",
   "metadata": {},
   "outputs": [
    {
     "name": "stdout",
     "output_type": "stream",
     "text": [
      "Recallscore voor testset:    0.9767\n"
     ]
    }
   ],
   "source": [
    "recall = recall_score(y_test, test_pred)\n",
    "print(f\"Recallscore voor testset:    {recall:.4f}\")"
   ]
  },
  {
   "cell_type": "markdown",
   "id": "4f3738df",
   "metadata": {},
   "source": [
    "Antwoord: Het verschil tussen de uitkomsten van de Confusion Matrix van train en test datasets zijn in ons geval niet heel groot, maar bij de recall score is het veel hoger bij de testset. Wij denken dat het komt doordat de test size veel kleiner is dan de trainset waardoor de KNN minder fouten maakt."
   ]
  },
  {
   "cell_type": "markdown",
   "id": "736fcd88",
   "metadata": {},
   "source": [
    "### K-Fold Cross Validatie\n",
    "\n",
    "Pas k-fold cross validation toe op de traindataset. Zie ook: https://scikit-learn.org/stable/modules/cross_validation.html"
   ]
  },
  {
   "cell_type": "code",
   "execution_count": null,
   "id": "96cd904f",
   "metadata": {},
   "outputs": [
    {
     "name": "stdout",
     "output_type": "stream",
     "text": [
      "Gemiddelde recall score van CV met 2 aantal splits: 0.83\n",
      "Gemiddelde recall score van CV met 3 aantal splits: 0.82\n",
      "Gemiddelde recall score van CV met 4 aantal splits: 0.82\n",
      "Gemiddelde recall score van CV met 5 aantal splits: 0.83\n",
      "Gemiddelde recall score van CV met 6 aantal splits: 0.84\n",
      "Gemiddelde recall score van CV met 7 aantal splits: 0.82\n",
      "Gemiddelde recall score van CV met 8 aantal splits: 0.83\n",
      "Gemiddelde recall score van CV met 9 aantal splits: 0.83\n",
      "Gemiddelde recall score van CV met 10 aantal splits: 0.82\n"
     ]
    }
   ],
   "source": [
    "for i in range(2, 11): # Hier gebruik ik cijfers van 2 tot en met 10 voor waarde k\n",
    "    kf = KFold(n_splits=i, shuffle=True, random_state=42)\n",
    "    cv_scores = cross_val_score(knn, X, y, cv=kf, scoring='recall')\n",
    "    print(f'Gemiddelde recall score van CV met {i} aantal splits: {np.round(cv_scores.mean(),2)}')"
   ]
  },
  {
   "cell_type": "markdown",
   "id": "06d19a21",
   "metadata": {},
   "source": [
    "Welke waarde van k kies je en waarom?"
   ]
  },
  {
   "cell_type": "markdown",
   "id": "8497b03f",
   "metadata": {},
   "source": [
    "Antwoord: In dit geval kiezen we de waarde 6 als k omdat dit de hoogste recallscore oplevert."
   ]
  },
  {
   "cell_type": "markdown",
   "id": "3e01b809",
   "metadata": {},
   "source": [
    "Lijkt het resultaat meer op de train of de testset?"
   ]
  },
  {
   "cell_type": "markdown",
   "id": "42e6a634",
   "metadata": {},
   "source": [
    "Antwoord: Het resultaat van de K-Fold Cross Validatie lijkt in ons geval meer op de trainset."
   ]
  },
  {
   "cell_type": "markdown",
   "id": "840e6f6c",
   "metadata": {},
   "source": [
    "### Underfit/Overfit\n",
    "\n",
    "Maak een underfit model (slechte prestaties op train en test) en een overfit model (veel betere prestaties op train vergeleken met test). Leg uit (via tekst en een of meer visualisaties) hoe je dit kan zien. \n",
    "\n",
    "Let op: je maakt hier expres slechte modellen om te zien hoe veel controle over het presteren van het model je kan krijgen en te leren wat de verschillende hyperparameters kunnen opleveren. \n",
    "\n",
    "Dit is wat er nodig is voor de hoogste score volgens de beoordelingsrubriek:\n",
    "\n",
    "\"Het is gelukt om een underfit- een overfitmodel te maken en er wordt duidelijk uitgelegd waaraan je dat kan zien. De rol van de train en testset wordt duidelijk uitgelegd. De resultaten worden onderbouwd met goede vizualisaties.\""
   ]
  },
  {
   "cell_type": "markdown",
   "id": "6139e8c2",
   "metadata": {},
   "source": [
    "## Underfit model:"
   ]
  },
  {
   "cell_type": "code",
   "execution_count": 74,
   "id": "dc47c4ab",
   "metadata": {},
   "outputs": [],
   "source": [
    "# Underfit\n",
    "import matplotlib.pyplot as plt\n",
    "X_underfit = data[['area_mean']] # Alleen 1 feature\n",
    "X_train, X_test, y_train, y_test = train_test_split(X_underfit, y, test_size=0.3)"
   ]
  },
  {
   "cell_type": "code",
   "execution_count": 75,
   "id": "ee6f41ea",
   "metadata": {},
   "outputs": [
    {
     "data": {
      "image/png": "[encoded data removed]",
      "text/plain": [
       "<Figure size 1000x500 with 1 Axes>"
      ]
     },
     "metadata": {},
     "output_type": "display_data"
    }
   ],
   "source": [
    "k_range = range(1, 11)\n",
    "underfit_train = []\n",
    "underfit_test = []\n",
    "for i in k_range:\n",
    "    knn_underfit = KNeighborsClassifier(n_neighbors=i)\n",
    "    knn_underfit.fit(X_train, y_train)\n",
    "    # Trainset\n",
    "    y_pred = knn_underfit.predict(X_train)\n",
    "    recall = recall_score(y_train, y_pred)\n",
    "    underfit_train.append(np.round(recall, 2))\n",
    "    # Testset\n",
    "    y_pred = knn_underfit.predict(X_test)\n",
    "    recall = recall_score(y_test, y_pred)\n",
    "    underfit_test.append(np.round(recall, 2))\n",
    "\n",
    "\n",
    "\n",
    "plt.figure(figsize=(10, 5))\n",
    "plt.plot(k_range, underfit_train, label='Trainset')\n",
    "plt.plot(k_range, underfit_test, label='Testset')\n",
    "plt.xlabel(\"n_neighbors\")\n",
    "plt.ylabel(\"Recall\")\n",
    "plt.legend()\n",
    "plt.title(\"Underfit model performance\")\n",
    "plt.show()"
   ]
  },
  {
   "cell_type": "code",
   "execution_count": 76,
   "id": "876e25a6",
   "metadata": {},
   "outputs": [
    {
     "name": "stdout",
     "output_type": "stream",
     "text": [
      "Gemiddelde recallscore van underfit model op de trainset: 0.80\n",
      "Gemiddelde recallscore van underfit model op de testset: 0.75\n"
     ]
    }
   ],
   "source": [
    "print(f'Gemiddelde recallscore van underfit model op de trainset: {np.mean(underfit_train):.2f}')\n",
    "print(f'Gemiddelde recallscore van underfit model op de testset: {np.mean(underfit_test):.2f}')"
   ]
  },
  {
   "cell_type": "markdown",
   "id": "37549b09",
   "metadata": {},
   "source": [
    "Antwoord: je kunt zien dat dit een underfit model is omdat:\n",
    "* De kloof tussen de prestaties van de train- en testsets zijn klein\n",
    "* Recall score gaat niet omhoog als n_neighbors omhoog gaat\n"
   ]
  },
  {
   "cell_type": "markdown",
   "id": "9e96ddb0",
   "metadata": {},
   "source": [
    "### RandomizedSearch\n",
    "\n",
    "Pas RandomizedSearchCV() toe op je model in scikit-learn, hiermee kan je de beste waarde voor je hyperparameters vinden. RandomizedSearchCV is een andere methode dan GridSearch. Zie hier voor meer informatie: https://scikit-learn.org/stable/modules/generated/sklearn.model_selection.RandomizedSearchCV.html\n",
    "\n",
    "Let op: voor maximale punten moet je ook K-Fold Cross Validatie tegelijk gebruiken (wss in een pipeline...zie DataCamp).\n",
    "\n",
    "Dit is wat er nodig is voor de hoogste score volgens de beoordelingsrubriek:\n",
    "\n",
    "\"Er is RandomizedSearchCV() uitgevoerd en er wordt beargumenteerd waarom gekozen is voor bepaalde hyperparameters. Ook wordt benoemd welke hyperparameter uiteindelijk het beste lijkt te zijn en waarom, en er is besproken hoe k-foldcross validatie betrokken wordt in de RandomizedSearchCV().\""
   ]
  },
  {
   "cell_type": "code",
   "execution_count": null,
   "id": "ea64ac7a",
   "metadata": {},
   "outputs": [],
   "source": [
    "(beantwoord als code)"
   ]
  },
  {
   "cell_type": "markdown",
   "id": "6ec3f5bf",
   "metadata": {},
   "source": [
    "(beantwoord als Markdown)"
   ]
  },
  {
   "cell_type": "markdown",
   "id": "9c0ef785",
   "metadata": {},
   "source": [
    "### Definitief Model (Classificatie)\n",
    "\n",
    "Dit is wat er nodig is voor de hoogste score volgens de beoordelingsrubriek:\n",
    "\n",
    "\"Er worden uitspraken gedaan over hoe goed de modellen werken. De onderbouwing is duidelijk en logisch. Ook is beargumenteerd waarom het model niet under- en overfit. Daarnaast komt naar voren waarom bepaalde features wel en niet in het uiteindelijke model zitten.\""
   ]
  },
  {
   "cell_type": "markdown",
   "id": "9d0f171c",
   "metadata": {},
   "source": [
    "Test het model met de beste parameters op de testset. Hoe goed is het model?"
   ]
  },
  {
   "cell_type": "code",
   "execution_count": null,
   "id": "e1fa0440",
   "metadata": {},
   "outputs": [],
   "source": [
    "(beantwoord als code)"
   ]
  },
  {
   "cell_type": "markdown",
   "id": "6d47bac9",
   "metadata": {},
   "source": [
    "(beantwoord als Markdown)"
   ]
  }
 ],
 "metadata": {
  "kernelspec": {
   "display_name": "base",
   "language": "python",
   "name": "python3"
  },
  "language_info": {
   "codemirror_mode": {
    "name": "ipython",
    "version": 3
   },
   "file_extension": ".py",
   "mimetype": "text/x-python",
   "name": "python",
   "nbconvert_exporter": "python",
   "pygments_lexer": "ipython3",
   "version": "3.12.7"
  }
 },
 "nbformat": 4,
 "nbformat_minor": 5
}
